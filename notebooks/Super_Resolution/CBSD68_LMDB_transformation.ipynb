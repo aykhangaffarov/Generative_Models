{
 "cells": [
  {
   "cell_type": "markdown",
   "metadata": {
    "id": "2hvjvSTG-Lwz"
   },
   "source": [
    "Start\n",
    "\n"
   ]
  },
  {
   "cell_type": "code",
   "execution_count": 1,
   "metadata": {
    "colab": {
     "base_uri": "https://localhost:8080/"
    },
    "id": "xZ0DoprWAmrg",
    "outputId": "c3b11fb3-99e6-4e71-b1e1-5b50425aa740"
   },
   "outputs": [],
   "source": [
    "%load_ext autoreload\n",
    "%autoreload 2"
   ]
  },
  {
   "cell_type": "markdown",
   "metadata": {
    "id": "4laNnarTOvFh"
   },
   "source": [
    "# Import some libraries"
   ]
  },
  {
   "cell_type": "code",
   "execution_count": 2,
   "metadata": {
    "id": "eU0M7tb0Bkke"
   },
   "outputs": [],
   "source": [
    "\n",
    "import os\n",
    "import sys\n",
    "import lmdb\n",
    "import pickle\n",
    "import numpy as np"
   ]
  },
  {
   "cell_type": "markdown",
   "metadata": {
    "id": "AF5q7zJt-fIH"
   },
   "source": [
    "# Cloning from github (Generative Models)\n",
    "\n"
   ]
  },
  {
   "cell_type": "code",
   "execution_count": 3,
   "metadata": {
    "colab": {
     "base_uri": "https://localhost:8080/"
    },
    "id": "YTncAI7cCAX4",
    "outputId": "0ab09743-01c9-4500-d6af-f1c9b8223d2f"
   },
   "outputs": [],
   "source": [
    "#!git clone https://github.com/kkahloots/Generative_Models.git # this is for loading git with correct brach\n"
   ]
  },
  {
   "cell_type": "markdown",
   "metadata": {
    "id": "QHHJoDw5QG6c"
   },
   "source": [
    "# Cloning from github (LMDB_Datasets)"
   ]
  },
  {
   "cell_type": "code",
   "execution_count": 4,
   "metadata": {
    "colab": {
     "base_uri": "https://localhost:8080/"
    },
    "id": "wQktIJ7WEq5u",
    "outputId": "744e28ae-ccfc-4255-9256-23eb5efe126d"
   },
   "outputs": [],
   "source": [
    "#!cd Generative_Models\n",
    "#!git clone https://github.com/azeghost/LMDB_Datasets # this is for loading git with correct brach"
   ]
  },
  {
   "cell_type": "code",
   "execution_count": 5,
   "metadata": {},
   "outputs": [
    {
     "name": "stdout",
     "output_type": "stream",
     "text": [
      "C:\\Users\\Kriple\\PycharmProjects\\Generative_Models\\notebooks\\Super_Resolution\n"
     ]
    }
   ],
   "source": [
    "import os\n",
    "print(os.getcwd())"
   ]
  },
  {
   "cell_type": "code",
   "execution_count": 6,
   "metadata": {},
   "outputs": [
    {
     "name": "stdout",
     "output_type": "stream",
     "text": [
      "C:\\Users\\Kriple\\PycharmProjects\\Generative_Models\n"
     ]
    }
   ],
   "source": [
    "sep_local = os.path.sep\n",
    "#os.chdir('..'+sep_local+'..'+sep_local+'..'+sep_local+'..'+sep_local+'..'+sep_local+'..'+sep_local)\n",
    "os.chdir('C:/Users/Kriple/PycharmProjects/Generative_Models')\n",
    "print(os.getcwd())"
   ]
  },
  {
   "cell_type": "markdown",
   "metadata": {
    "id": "IbUARpNxQUwo"
   },
   "source": [
    "# LMDB transformer"
   ]
  },
  {
   "cell_type": "code",
   "execution_count": 7,
   "metadata": {},
   "outputs": [],
   "source": [
    "#!pip -q install -r requirements.txt"
   ]
  },
  {
   "cell_type": "code",
   "execution_count": 8,
   "metadata": {
    "id": "xZB3QYErC4DI"
   },
   "outputs": [],
   "source": [
    "from colorlog import ColoredFormatter"
   ]
  },
  {
   "cell_type": "code",
   "execution_count": 9,
   "metadata": {
    "id": "bzJu4s0N_yEj"
   },
   "outputs": [],
   "source": [
    "image_size=(300, 210, 3)"
   ]
  },
  {
   "cell_type": "code",
   "execution_count": 10,
   "metadata": {
    "id": "6vOue-tL_Q-W"
   },
   "outputs": [],
   "source": [
    "import tensorflow as tf"
   ]
  },
  {
   "cell_type": "code",
   "execution_count": 11,
   "metadata": {
    "id": "mB5hgseZC8IQ"
   },
   "outputs": [],
   "source": [
    "images_dir = 'C:/Users/Kriple/PycharmProjects/Generative_Models/data/.CBSD68' #Folder to images ( without name of the folder which we moved images before)\n",
    "validation_percentage = 20\n",
    "valid_format = 'png'"
   ]
  },
  {
   "cell_type": "markdown",
   "metadata": {},
   "source": [
    "# CBSD68_low2high_LMDB"
   ]
  },
  {
   "cell_type": "code",
   "execution_count": 12,
   "metadata": {
    "id": "iblHMxPd_iyT"
   },
   "outputs": [],
   "source": [
    "inputs_shape = list(map(lambda x: x//2 , image_size[:-1])) + [image_size[-1]]\n",
    "inputs_shape = (*inputs_shape,)"
   ]
  },
  {
   "cell_type": "code",
   "execution_count": 13,
   "metadata": {},
   "outputs": [],
   "source": [
    "import cv2\n",
    "import numpy as np"
   ]
  },
  {
   "cell_type": "code",
   "execution_count": 14,
   "metadata": {},
   "outputs": [],
   "source": [
    "small_size = tuple([a//3 for a in image_size][:-1])\n",
    "large_size = tuple([a for a in image_size][:-1])"
   ]
  },
  {
   "cell_type": "code",
   "execution_count": 15,
   "metadata": {
    "id": "jJV9exKb-UvY"
   },
   "outputs": [],
   "source": [
    "shrink_fn = lambda image: np.asarray(cv2.resize(image, dsize=small_size, interpolation=cv2.INTER_CUBIC))\n",
    "enlarg_fn = lambda image: np.asarray(cv2.resize(image, dsize=large_size, interpolation=cv2.INTER_CUBIC))"
   ]
  },
  {
   "cell_type": "code",
   "execution_count": 16,
   "metadata": {},
   "outputs": [],
   "source": [
    "trans_fn = lambda image: enlarg_fn(shrink_fn(image))"
   ]
  },
  {
   "cell_type": "code",
   "execution_count": 17,
   "metadata": {
    "id": "O7vHmcI-BtEf"
   },
   "outputs": [],
   "source": [
    "from transformation.lmdb_transformer import SRLmdbTransformer"
   ]
  },
  {
   "cell_type": "code",
   "execution_count": 18,
   "metadata": {
    "id": "zNPxn5jzvQgA"
   },
   "outputs": [],
   "source": [
    "transformer = SRLmdbTransformer(image_dir=images_dir, trans_func=trans_fn,\n",
    "                              validation_pct = validation_percentage, valid_image_formats = valid_format)"
   ]
  },
  {
   "cell_type": "markdown",
   "metadata": {
    "id": "MOm_t8__-7Bl"
   },
   "source": [
    "# Evaluating numbers of training and validation sets"
   ]
  },
  {
   "cell_type": "code",
   "execution_count": 19,
   "metadata": {
    "colab": {
     "base_uri": "https://localhost:8080/"
    },
    "id": "kZ9lG8I2vUS3",
    "outputId": "3a514722-b19e-492b-a7c3-f7b315ff7b08"
   },
   "outputs": [
    {
     "name": "stdout",
     "output_type": "stream",
     "text": [
      "55 13\n"
     ]
    }
   ],
   "source": [
    "\n",
    "val_num_images = 0\n",
    "tra_num_images = 0\n",
    "for key in transformer.image_lists.keys():\n",
    "    tra_num_images += len(transformer.image_lists[key]['training'])\n",
    "    val_num_images += len(transformer.image_lists[key]['validation'])\n",
    "    \n",
    "print(tra_num_images, val_num_images)"
   ]
  },
  {
   "cell_type": "markdown",
   "metadata": {
    "id": "oD2xDBORSkqR"
   },
   "source": [
    "# Getting labels by filename"
   ]
  },
  {
   "cell_type": "code",
   "execution_count": 20,
   "metadata": {
    "id": "nTQB5YX2wkO_"
   },
   "outputs": [],
   "source": [
    "from transformation.transformative_custom_dataset import get_label_by_filename\n"
   ]
  },
  {
   "cell_type": "code",
   "execution_count": 21,
   "metadata": {
    "id": "2CKE-87kxBT6"
   },
   "outputs": [],
   "source": [
    "def get_label_by_filename(img_path):\n",
    "    name, _ = os.path.splitext(img_path)\n",
    "    vid_img_arr = name.split(sep=os.sep)[-2:]\n",
    "    return {'dir': (vid_img_arr)[0], 'filename': (vid_img_arr)[1]}"
   ]
  },
  {
   "cell_type": "markdown",
   "metadata": {
    "id": "3OlujHmNSzin"
   },
   "source": [
    "# Transforming images to LMDB"
   ]
  },
  {
   "cell_type": "code",
   "execution_count": 22,
   "metadata": {
    "colab": {
     "base_uri": "https://localhost:8080/",
     "height": 35
    },
    "id": "GIzMN-MnSlR3",
    "outputId": "d6fc9055-d7ed-4dfb-a523-22b9421f3d4a"
   },
   "outputs": [
    {
     "data": {
      "text/plain": [
       "'C:/Users/Kriple/PycharmProjects/Generative_Models/data/.CBSD68_low2high_LMDB'"
      ]
     },
     "execution_count": 22,
     "metadata": {},
     "output_type": "execute_result"
    }
   ],
   "source": [
    "lmdb_dir = 'C:/Users/Kriple/PycharmProjects/Generative_Models/data/.CBSD68_low2high_LMDB'\n",
    "lmdb_dir"
   ]
  },
  {
   "cell_type": "code",
   "execution_count": 23,
   "metadata": {
    "colab": {
     "base_uri": "https://localhost:8080/"
    },
    "id": "9QbescqLxOWr",
    "outputId": "6b31da52-6f27-4efe-caa7-f72e48604b93",
    "scrolled": true
   },
   "outputs": [
    {
     "name": "stdout",
     "output_type": "stream",
     "text": [
      "Total number of imgs for catagory 55\n",
      "Storing 55 C:/Users/Kriple/PycharmProjects/Generative_Models/data/.CBSD68_low2high_LMDB\\ into _training from folder a\n"
     ]
    }
   ],
   "source": [
    "transformer.transform_store(labels_fn=get_label_by_filename, image_dir=images_dir, lmdb_dir=lmdb_dir,\n",
    "           category='training', target_size=image_size[:-1], color_mode='rgb')\n"
   ]
  },
  {
   "cell_type": "code",
   "execution_count": 24,
   "metadata": {
    "colab": {
     "base_uri": "https://localhost:8080/"
    },
    "id": "ywoa5olzxZ10",
    "outputId": "93a4202d-1efb-4fda-9446-2df67fce9a1d"
   },
   "outputs": [
    {
     "name": "stdout",
     "output_type": "stream",
     "text": [
      "Total number of imgs for catagory 13\n",
      "Storing 13 C:/Users/Kriple/PycharmProjects/Generative_Models/data/.CBSD68_low2high_LMDB\\ into _validation from folder a\n"
     ]
    }
   ],
   "source": [
    "transformer.transform_store(labels_fn=get_label_by_filename, image_dir=images_dir, lmdb_dir=lmdb_dir\n",
    "           ,category='validation', target_size=image_size[:-1], color_mode='rgb')"
   ]
  },
  {
   "cell_type": "markdown",
   "metadata": {
    "id": "DI_9hqKuS9uo"
   },
   "source": [
    "# Saving meta data of dataset"
   ]
  },
  {
   "cell_type": "code",
   "execution_count": 25,
   "metadata": {
    "colab": {
     "base_uri": "https://localhost:8080/"
    },
    "id": "stYHyxv2vzX_",
    "outputId": "59ee9fbc-f0e9-408a-f1b3-209506247829"
   },
   "outputs": [
    {
     "name": "stdout",
     "output_type": "stream",
     "text": [
      "_training\n",
      "_validation\n"
     ]
    }
   ],
   "source": [
    "!ls C:/Users/Kriple/PycharmProjects/Generative_Models/data/.CBSD68_low2high_LMDB"
   ]
  },
  {
   "cell_type": "code",
   "execution_count": 26,
   "metadata": {
    "id": "EuhkObY-vbMW"
   },
   "outputs": [],
   "source": [
    "\n",
    "info = {\n",
    "    'Dataset_name': \"CBSD68_low2high\",\n",
    "    'Dataset_size': val_num_images + tra_num_images,\n",
    "    'val_num_images':val_num_images,\n",
    "    'tra_num_images' : tra_num_images\n",
    "}\n",
    "\n",
    "transformer.save_metadata(lmdb_dir, info)"
   ]
  },
  {
   "cell_type": "code",
   "execution_count": 27,
   "metadata": {
    "colab": {
     "base_uri": "https://localhost:8080/"
    },
    "id": "jUUBm8tWTfsR",
    "outputId": "3f4798da-a545-40ce-a7c8-84db6933a649",
    "scrolled": true
   },
   "outputs": [
    {
     "name": "stdout",
     "output_type": "stream",
     "text": [
      "total 1\n",
      "drwxr-xr-x 1 Kriple None   0 Nov  6 19:25 _training\n",
      "drwxr-xr-x 1 Kriple None   0 Nov  6 19:25 _validation\n",
      "-rw-r--r-- 1 Kriple None 111 Nov  6 19:25 meta_info.json\n"
     ]
    }
   ],
   "source": [
    "!ls -l C:/Users/Kriple/PycharmProjects/Generative_Models/data/.CBSD68_low2high_LMDB/"
   ]
  },
  {
   "cell_type": "markdown",
   "metadata": {},
   "source": [
    "# CBSD68_denoising_LMDB"
   ]
  },
  {
   "cell_type": "code",
   "execution_count": 28,
   "metadata": {},
   "outputs": [],
   "source": [
    "image_rev = tuple([*[*reversed(image_size)][1:], 3])"
   ]
  },
  {
   "cell_type": "code",
   "execution_count": 29,
   "metadata": {},
   "outputs": [
    {
     "data": {
      "text/plain": [
       "(210, 300, 3)"
      ]
     },
     "execution_count": 29,
     "metadata": {},
     "output_type": "execute_result"
    }
   ],
   "source": [
    "image_rev"
   ]
  },
  {
   "cell_type": "code",
   "execution_count": 30,
   "metadata": {
    "scrolled": true
   },
   "outputs": [],
   "source": [
    "noise_percentage=20/100\n",
    "noise_image =  tf.random.normal(shape=image_rev)\n",
    "\n",
    "trans_fn = lambda images: np.asarray(tf.clip_by_value((images + noise_image*noise_percentage),0,1).numpy())\n"
   ]
  },
  {
   "cell_type": "code",
   "execution_count": 31,
   "metadata": {
    "id": "O7vHmcI-BtEf"
   },
   "outputs": [],
   "source": [
    "from transformation.lmdb_transformer import SRLmdbTransformer"
   ]
  },
  {
   "cell_type": "code",
   "execution_count": 32,
   "metadata": {
    "id": "zNPxn5jzvQgA"
   },
   "outputs": [],
   "source": [
    "transformer = SRLmdbTransformer(image_dir=images_dir, trans_func=trans_fn,\n",
    "                              validation_pct = validation_percentage, valid_image_formats = valid_format)"
   ]
  },
  {
   "cell_type": "markdown",
   "metadata": {
    "id": "MOm_t8__-7Bl"
   },
   "source": [
    "# Evaluating numbers of training and validation sets"
   ]
  },
  {
   "cell_type": "code",
   "execution_count": 33,
   "metadata": {
    "colab": {
     "base_uri": "https://localhost:8080/"
    },
    "id": "kZ9lG8I2vUS3",
    "outputId": "3a514722-b19e-492b-a7c3-f7b315ff7b08"
   },
   "outputs": [
    {
     "name": "stdout",
     "output_type": "stream",
     "text": [
      "55 13\n"
     ]
    }
   ],
   "source": [
    "\n",
    "val_num_images = 0\n",
    "tra_num_images = 0\n",
    "for key in transformer.image_lists.keys():\n",
    "    tra_num_images += len(transformer.image_lists[key]['training'])\n",
    "    val_num_images += len(transformer.image_lists[key]['validation'])\n",
    "    \n",
    "print(tra_num_images, val_num_images)"
   ]
  },
  {
   "cell_type": "markdown",
   "metadata": {
    "id": "oD2xDBORSkqR"
   },
   "source": [
    "# Getting labels by filename"
   ]
  },
  {
   "cell_type": "code",
   "execution_count": 34,
   "metadata": {
    "id": "nTQB5YX2wkO_"
   },
   "outputs": [],
   "source": [
    "from transformation.transformative_custom_dataset import get_label_by_filename"
   ]
  },
  {
   "cell_type": "code",
   "execution_count": 35,
   "metadata": {
    "id": "2CKE-87kxBT6"
   },
   "outputs": [],
   "source": [
    "def get_label_by_filename(img_path):\n",
    "    name, _ = os.path.splitext(img_path)\n",
    "    vid_img_arr = name.split(sep=os.sep)[-2:]\n",
    "    return {'dir': (vid_img_arr)[0], 'filename': (vid_img_arr)[1]}"
   ]
  },
  {
   "cell_type": "markdown",
   "metadata": {
    "id": "3OlujHmNSzin"
   },
   "source": [
    "# Transforming images to LMDB"
   ]
  },
  {
   "cell_type": "code",
   "execution_count": 36,
   "metadata": {
    "colab": {
     "base_uri": "https://localhost:8080/",
     "height": 35
    },
    "id": "GIzMN-MnSlR3",
    "outputId": "d6fc9055-d7ed-4dfb-a523-22b9421f3d4a"
   },
   "outputs": [
    {
     "data": {
      "text/plain": [
       "'C:/Users/Kriple/PycharmProjects/Generative_Models/data/.CBSD68_denoising_LMDB'"
      ]
     },
     "execution_count": 36,
     "metadata": {},
     "output_type": "execute_result"
    }
   ],
   "source": [
    "lmdb_dir = 'C:/Users/Kriple/PycharmProjects/Generative_Models/data/.CBSD68_denoising_LMDB'\n",
    "lmdb_dir"
   ]
  },
  {
   "cell_type": "code",
   "execution_count": 37,
   "metadata": {
    "colab": {
     "base_uri": "https://localhost:8080/"
    },
    "id": "9QbescqLxOWr",
    "outputId": "6b31da52-6f27-4efe-caa7-f72e48604b93",
    "scrolled": true
   },
   "outputs": [
    {
     "name": "stdout",
     "output_type": "stream",
     "text": [
      "Total number of imgs for catagory 55\n",
      "Storing 55 C:/Users/Kriple/PycharmProjects/Generative_Models/data/.CBSD68_denoising_LMDB\\ into _training from folder a\n"
     ]
    }
   ],
   "source": [
    "transformer.transform_store(labels_fn=get_label_by_filename, image_dir=images_dir, lmdb_dir=lmdb_dir,\n",
    "           category='training', target_size=image_size[:-1], color_mode='rgb')\n"
   ]
  },
  {
   "cell_type": "code",
   "execution_count": 38,
   "metadata": {
    "colab": {
     "base_uri": "https://localhost:8080/"
    },
    "id": "ywoa5olzxZ10",
    "outputId": "93a4202d-1efb-4fda-9446-2df67fce9a1d"
   },
   "outputs": [
    {
     "name": "stdout",
     "output_type": "stream",
     "text": [
      "Total number of imgs for catagory 13\n",
      "Storing 13 C:/Users/Kriple/PycharmProjects/Generative_Models/data/.CBSD68_denoising_LMDB\\ into _validation from folder a\n"
     ]
    }
   ],
   "source": [
    "transformer.transform_store(labels_fn=get_label_by_filename, image_dir=images_dir, lmdb_dir=lmdb_dir\n",
    "           ,category='validation', target_size=image_size[:-1], color_mode='rgb')"
   ]
  },
  {
   "cell_type": "markdown",
   "metadata": {
    "id": "DI_9hqKuS9uo"
   },
   "source": [
    "# Saving meta data of dataset"
   ]
  },
  {
   "cell_type": "code",
   "execution_count": 39,
   "metadata": {
    "colab": {
     "base_uri": "https://localhost:8080/"
    },
    "id": "stYHyxv2vzX_",
    "outputId": "59ee9fbc-f0e9-408a-f1b3-209506247829"
   },
   "outputs": [
    {
     "name": "stdout",
     "output_type": "stream",
     "text": [
      "_training\n",
      "_validation\n"
     ]
    }
   ],
   "source": [
    "!ls C:/Users/Kriple/PycharmProjects/Generative_Models/data/.CBSD68_denoising_LMDB"
   ]
  },
  {
   "cell_type": "code",
   "execution_count": 40,
   "metadata": {
    "id": "EuhkObY-vbMW"
   },
   "outputs": [],
   "source": [
    "\n",
    "info = {\n",
    "    'Dataset_name': \"CBSD68_denoising_LMDB\",\n",
    "    'Dataset_size': val_num_images + tra_num_images,\n",
    "    'val_num_images':val_num_images,\n",
    "    'tra_num_images' : tra_num_images\n",
    "}\n",
    "\n",
    "transformer.save_metadata(lmdb_dir, info)"
   ]
  },
  {
   "cell_type": "code",
   "execution_count": 41,
   "metadata": {
    "colab": {
     "base_uri": "https://localhost:8080/"
    },
    "id": "jUUBm8tWTfsR",
    "outputId": "3f4798da-a545-40ce-a7c8-84db6933a649",
    "scrolled": true
   },
   "outputs": [
    {
     "name": "stdout",
     "output_type": "stream",
     "text": [
      "total 1\n",
      "drwxr-xr-x 1 Kriple None   0 Nov  6 19:25 _training\n",
      "drwxr-xr-x 1 Kriple None   0 Nov  6 19:25 _validation\n",
      "-rw-r--r-- 1 Kriple None 117 Nov  6 19:25 meta_info.json\n"
     ]
    }
   ],
   "source": [
    "!ls -l C:/Users/Kriple/PycharmProjects/Generative_Models/data/.CBSD68_denoising_LMDB/"
   ]
  },
  {
   "cell_type": "markdown",
   "metadata": {},
   "source": [
    "# CBSD68_coloring_LMDB"
   ]
  },
  {
   "cell_type": "code",
   "execution_count": 42,
   "metadata": {},
   "outputs": [],
   "source": [
    "image_rev = tuple([*[*reversed(image_size)][1:], 3])"
   ]
  },
  {
   "cell_type": "code",
   "execution_count": 43,
   "metadata": {},
   "outputs": [
    {
     "data": {
      "text/plain": [
       "(210, 300, 3)"
      ]
     },
     "execution_count": 43,
     "metadata": {},
     "output_type": "execute_result"
    }
   ],
   "source": [
    "image_rev"
   ]
  },
  {
   "cell_type": "code",
   "execution_count": 44,
   "metadata": {
    "scrolled": true
   },
   "outputs": [],
   "source": [
    "trans_fn = lambda images: np.asarray(tf.image.grayscale_to_rgb(tf.image.rgb_to_grayscale(images)).numpy())"
   ]
  },
  {
   "cell_type": "code",
   "execution_count": 45,
   "metadata": {
    "id": "O7vHmcI-BtEf"
   },
   "outputs": [],
   "source": [
    "from transformation.lmdb_transformer import SRLmdbTransformer"
   ]
  },
  {
   "cell_type": "code",
   "execution_count": 46,
   "metadata": {
    "id": "zNPxn5jzvQgA"
   },
   "outputs": [],
   "source": [
    "transformer = SRLmdbTransformer(image_dir=images_dir, trans_func=trans_fn,\n",
    "                              validation_pct = validation_percentage, valid_image_formats = valid_format)"
   ]
  },
  {
   "cell_type": "markdown",
   "metadata": {
    "id": "MOm_t8__-7Bl"
   },
   "source": [
    "# Evaluating numbers of training and validation sets"
   ]
  },
  {
   "cell_type": "code",
   "execution_count": 47,
   "metadata": {
    "colab": {
     "base_uri": "https://localhost:8080/"
    },
    "id": "kZ9lG8I2vUS3",
    "outputId": "3a514722-b19e-492b-a7c3-f7b315ff7b08"
   },
   "outputs": [
    {
     "name": "stdout",
     "output_type": "stream",
     "text": [
      "55 13\n"
     ]
    }
   ],
   "source": [
    "\n",
    "val_num_images = 0\n",
    "tra_num_images = 0\n",
    "for key in transformer.image_lists.keys():\n",
    "    tra_num_images += len(transformer.image_lists[key]['training'])\n",
    "    val_num_images += len(transformer.image_lists[key]['validation'])\n",
    "    \n",
    "print(tra_num_images, val_num_images)"
   ]
  },
  {
   "cell_type": "markdown",
   "metadata": {
    "id": "oD2xDBORSkqR"
   },
   "source": [
    "# Getting labels by filename"
   ]
  },
  {
   "cell_type": "code",
   "execution_count": 48,
   "metadata": {
    "id": "nTQB5YX2wkO_"
   },
   "outputs": [],
   "source": [
    "from transformation.transformative_custom_dataset import get_label_by_filename"
   ]
  },
  {
   "cell_type": "code",
   "execution_count": 49,
   "metadata": {
    "id": "2CKE-87kxBT6"
   },
   "outputs": [],
   "source": [
    "def get_label_by_filename(img_path):\n",
    "    name, _ = os.path.splitext(img_path)\n",
    "    vid_img_arr = name.split(sep=os.sep)[-2:]\n",
    "    return {'dir': (vid_img_arr)[0], 'filename': (vid_img_arr)[1]}"
   ]
  },
  {
   "cell_type": "markdown",
   "metadata": {
    "id": "3OlujHmNSzin"
   },
   "source": [
    "# Transforming images to LMDB"
   ]
  },
  {
   "cell_type": "code",
   "execution_count": 50,
   "metadata": {
    "colab": {
     "base_uri": "https://localhost:8080/",
     "height": 35
    },
    "id": "GIzMN-MnSlR3",
    "outputId": "d6fc9055-d7ed-4dfb-a523-22b9421f3d4a"
   },
   "outputs": [
    {
     "data": {
      "text/plain": [
       "'C:/Users/Kriple/PycharmProjects/Generative_Models/data/.CBSD68_coloring_LMDB'"
      ]
     },
     "execution_count": 50,
     "metadata": {},
     "output_type": "execute_result"
    }
   ],
   "source": [
    "lmdb_dir = 'C:/Users/Kriple/PycharmProjects/Generative_Models/data/.CBSD68_coloring_LMDB'\n",
    "lmdb_dir"
   ]
  },
  {
   "cell_type": "code",
   "execution_count": 51,
   "metadata": {
    "colab": {
     "base_uri": "https://localhost:8080/"
    },
    "id": "9QbescqLxOWr",
    "outputId": "6b31da52-6f27-4efe-caa7-f72e48604b93",
    "scrolled": true
   },
   "outputs": [
    {
     "name": "stdout",
     "output_type": "stream",
     "text": [
      "Total number of imgs for catagory 55\n",
      "Storing 55 C:/Users/Kriple/PycharmProjects/Generative_Models/data/.CBSD68_coloring_LMDB\\ into _training from folder a\n"
     ]
    }
   ],
   "source": [
    "transformer.transform_store(labels_fn=get_label_by_filename, image_dir=images_dir, lmdb_dir=lmdb_dir,\n",
    "           category='training', target_size=image_size[:-1], color_mode='rgb')\n"
   ]
  },
  {
   "cell_type": "code",
   "execution_count": 52,
   "metadata": {
    "colab": {
     "base_uri": "https://localhost:8080/"
    },
    "id": "ywoa5olzxZ10",
    "outputId": "93a4202d-1efb-4fda-9446-2df67fce9a1d"
   },
   "outputs": [
    {
     "name": "stdout",
     "output_type": "stream",
     "text": [
      "Total number of imgs for catagory 13\n",
      "Storing 13 C:/Users/Kriple/PycharmProjects/Generative_Models/data/.CBSD68_coloring_LMDB\\ into _validation from folder a\n"
     ]
    }
   ],
   "source": [
    "transformer.transform_store(labels_fn=get_label_by_filename, image_dir=images_dir, lmdb_dir=lmdb_dir\n",
    "           ,category='validation', target_size=image_size[:-1], color_mode='rgb')"
   ]
  },
  {
   "cell_type": "markdown",
   "metadata": {
    "id": "DI_9hqKuS9uo"
   },
   "source": [
    "# Saving meta data of dataset"
   ]
  },
  {
   "cell_type": "code",
   "execution_count": 53,
   "metadata": {
    "colab": {
     "base_uri": "https://localhost:8080/"
    },
    "id": "stYHyxv2vzX_",
    "outputId": "59ee9fbc-f0e9-408a-f1b3-209506247829"
   },
   "outputs": [
    {
     "name": "stdout",
     "output_type": "stream",
     "text": [
      "_training\n",
      "_validation\n"
     ]
    }
   ],
   "source": [
    "!ls C:/Users/Kriple/PycharmProjects/Generative_Models/data/.CBSD68_coloring_LMDB"
   ]
  },
  {
   "cell_type": "code",
   "execution_count": 54,
   "metadata": {
    "id": "EuhkObY-vbMW"
   },
   "outputs": [],
   "source": [
    "\n",
    "info = {\n",
    "    'Dataset_name': \"CBSD68_coloring_LMDB\",\n",
    "    'Dataset_size': val_num_images + tra_num_images,\n",
    "    'val_num_images':val_num_images,\n",
    "    'tra_num_images' : tra_num_images\n",
    "}\n",
    "\n",
    "transformer.save_metadata(lmdb_dir, info)"
   ]
  },
  {
   "cell_type": "code",
   "execution_count": 55,
   "metadata": {
    "colab": {
     "base_uri": "https://localhost:8080/"
    },
    "id": "jUUBm8tWTfsR",
    "outputId": "3f4798da-a545-40ce-a7c8-84db6933a649",
    "scrolled": true
   },
   "outputs": [
    {
     "name": "stdout",
     "output_type": "stream",
     "text": [
      "total 1\n",
      "drwxr-xr-x 1 Kriple None   0 Nov  6 19:25 _training\n",
      "drwxr-xr-x 1 Kriple None   0 Nov  6 19:25 _validation\n",
      "-rw-r--r-- 1 Kriple None 116 Nov  6 19:25 meta_info.json\n"
     ]
    }
   ],
   "source": [
    "!ls -l C:/Users/Kriple/PycharmProjects/Generative_Models/data/.CBSD68_coloring_LMDB/"
   ]
  },
  {
   "cell_type": "markdown",
   "metadata": {},
   "source": [
    "# CBSD68_skitch_LMDB"
   ]
  },
  {
   "cell_type": "code",
   "execution_count": 56,
   "metadata": {},
   "outputs": [],
   "source": [
    "image_rev = tuple([*[*reversed(image_size)][1:], 3])"
   ]
  },
  {
   "cell_type": "code",
   "execution_count": 57,
   "metadata": {},
   "outputs": [
    {
     "data": {
      "text/plain": [
       "(210, 300, 3)"
      ]
     },
     "execution_count": 57,
     "metadata": {},
     "output_type": "execute_result"
    }
   ],
   "source": [
    "image_rev"
   ]
  },
  {
   "cell_type": "code",
   "execution_count": 58,
   "metadata": {},
   "outputs": [],
   "source": [
    "import random\n",
    "import numpy as np\n",
    "from utils.augmentation.augmentor import operations, do_operation\n",
    "SKITCH=6\n",
    "trans_fn = lambda images: np.asarray(do_operation(operations[SKITCH](), images, rotate=True))"
   ]
  },
  {
   "cell_type": "code",
   "execution_count": 59,
   "metadata": {
    "id": "O7vHmcI-BtEf"
   },
   "outputs": [],
   "source": [
    "from transformation.lmdb_transformer import SRLmdbTransformer"
   ]
  },
  {
   "cell_type": "code",
   "execution_count": 60,
   "metadata": {
    "id": "zNPxn5jzvQgA"
   },
   "outputs": [],
   "source": [
    "transformer = SRLmdbTransformer(image_dir=images_dir, trans_func=trans_fn,\n",
    "                              validation_pct = validation_percentage, valid_image_formats = valid_format)"
   ]
  },
  {
   "cell_type": "markdown",
   "metadata": {
    "id": "MOm_t8__-7Bl"
   },
   "source": [
    "# Evaluating numbers of training and validation sets"
   ]
  },
  {
   "cell_type": "code",
   "execution_count": 61,
   "metadata": {
    "colab": {
     "base_uri": "https://localhost:8080/"
    },
    "id": "kZ9lG8I2vUS3",
    "outputId": "3a514722-b19e-492b-a7c3-f7b315ff7b08"
   },
   "outputs": [
    {
     "name": "stdout",
     "output_type": "stream",
     "text": [
      "55 13\n"
     ]
    }
   ],
   "source": [
    "\n",
    "val_num_images = 0\n",
    "tra_num_images = 0\n",
    "for key in transformer.image_lists.keys():\n",
    "    tra_num_images += len(transformer.image_lists[key]['training'])\n",
    "    val_num_images += len(transformer.image_lists[key]['validation'])\n",
    "    \n",
    "print(tra_num_images, val_num_images)"
   ]
  },
  {
   "cell_type": "markdown",
   "metadata": {
    "id": "oD2xDBORSkqR"
   },
   "source": [
    "# Getting labels by filename"
   ]
  },
  {
   "cell_type": "code",
   "execution_count": 62,
   "metadata": {
    "id": "nTQB5YX2wkO_"
   },
   "outputs": [],
   "source": [
    "from transformation.transformative_custom_dataset import get_label_by_filename"
   ]
  },
  {
   "cell_type": "code",
   "execution_count": 63,
   "metadata": {
    "id": "2CKE-87kxBT6"
   },
   "outputs": [],
   "source": [
    "def get_label_by_filename(img_path):\n",
    "    name, _ = os.path.splitext(img_path)\n",
    "    vid_img_arr = name.split(sep=os.sep)[-2:]\n",
    "    return {'dir': (vid_img_arr)[0], 'filename': (vid_img_arr)[1]}"
   ]
  },
  {
   "cell_type": "markdown",
   "metadata": {
    "id": "3OlujHmNSzin"
   },
   "source": [
    "# Transforming images to LMDB"
   ]
  },
  {
   "cell_type": "code",
   "execution_count": 64,
   "metadata": {
    "colab": {
     "base_uri": "https://localhost:8080/",
     "height": 35
    },
    "id": "GIzMN-MnSlR3",
    "outputId": "d6fc9055-d7ed-4dfb-a523-22b9421f3d4a"
   },
   "outputs": [
    {
     "data": {
      "text/plain": [
       "'C:/Users/Kriple/PycharmProjects/Generative_Models/data/.CBSD68_skitch_LMDB'"
      ]
     },
     "execution_count": 64,
     "metadata": {},
     "output_type": "execute_result"
    }
   ],
   "source": [
    "lmdb_dir = 'C:/Users/Kriple/PycharmProjects/Generative_Models/data/.CBSD68_skitch_LMDB'\n",
    "lmdb_dir"
   ]
  },
  {
   "cell_type": "code",
   "execution_count": 65,
   "metadata": {
    "colab": {
     "base_uri": "https://localhost:8080/"
    },
    "id": "9QbescqLxOWr",
    "outputId": "6b31da52-6f27-4efe-caa7-f72e48604b93",
    "scrolled": true
   },
   "outputs": [
    {
     "name": "stdout",
     "output_type": "stream",
     "text": [
      "Total number of imgs for catagory 55\n",
      "Storing 55 C:/Users/Kriple/PycharmProjects/Generative_Models/data/.CBSD68_skitch_LMDB\\ into _training from folder a\n"
     ]
    }
   ],
   "source": [
    "transformer.transform_store(labels_fn=get_label_by_filename, image_dir=images_dir, lmdb_dir=lmdb_dir,\n",
    "           category='training', target_size=image_size[:-1], color_mode='rgb')\n"
   ]
  },
  {
   "cell_type": "code",
   "execution_count": 66,
   "metadata": {
    "colab": {
     "base_uri": "https://localhost:8080/"
    },
    "id": "ywoa5olzxZ10",
    "outputId": "93a4202d-1efb-4fda-9446-2df67fce9a1d"
   },
   "outputs": [
    {
     "name": "stdout",
     "output_type": "stream",
     "text": [
      "Total number of imgs for catagory 13\n",
      "Storing 13 C:/Users/Kriple/PycharmProjects/Generative_Models/data/.CBSD68_skitch_LMDB\\ into _validation from folder a\n"
     ]
    }
   ],
   "source": [
    "transformer.transform_store(labels_fn=get_label_by_filename, image_dir=images_dir, lmdb_dir=lmdb_dir\n",
    "           ,category='validation', target_size=image_size[:-1], color_mode='rgb')"
   ]
  },
  {
   "cell_type": "markdown",
   "metadata": {
    "id": "DI_9hqKuS9uo"
   },
   "source": [
    "# Saving meta data of dataset"
   ]
  },
  {
   "cell_type": "code",
   "execution_count": 67,
   "metadata": {
    "colab": {
     "base_uri": "https://localhost:8080/"
    },
    "id": "stYHyxv2vzX_",
    "outputId": "59ee9fbc-f0e9-408a-f1b3-209506247829"
   },
   "outputs": [
    {
     "name": "stdout",
     "output_type": "stream",
     "text": [
      "_training\n",
      "_validation\n"
     ]
    }
   ],
   "source": [
    "!ls C:/Users/Kriple/PycharmProjects/Generative_Models/data/.CBSD68_skitch_LMDB"
   ]
  },
  {
   "cell_type": "code",
   "execution_count": 68,
   "metadata": {
    "id": "EuhkObY-vbMW"
   },
   "outputs": [],
   "source": [
    "\n",
    "info = {\n",
    "    'Dataset_name': \"CBSD68_skitch_LMDB\",\n",
    "    'Dataset_size': val_num_images + tra_num_images,\n",
    "    'val_num_images':val_num_images,\n",
    "    'tra_num_images' : tra_num_images\n",
    "}\n",
    "\n",
    "transformer.save_metadata(lmdb_dir, info)"
   ]
  },
  {
   "cell_type": "code",
   "execution_count": 69,
   "metadata": {
    "colab": {
     "base_uri": "https://localhost:8080/"
    },
    "id": "jUUBm8tWTfsR",
    "outputId": "3f4798da-a545-40ce-a7c8-84db6933a649",
    "scrolled": true
   },
   "outputs": [
    {
     "name": "stdout",
     "output_type": "stream",
     "text": [
      "total 1\n",
      "drwxr-xr-x 1 Kriple None   0 Nov  6 19:25 _training\n",
      "drwxr-xr-x 1 Kriple None   0 Nov  6 19:26 _validation\n",
      "-rw-r--r-- 1 Kriple None 114 Nov  6 19:26 meta_info.json\n"
     ]
    }
   ],
   "source": [
    "!ls -l C:/Users/Kriple/PycharmProjects/Generative_Models/data/.CBSD68_skitch_LMDB/"
   ]
  },
  {
   "cell_type": "markdown",
   "metadata": {},
   "source": [
    "# CBSD68_remove_text_LMDB"
   ]
  },
  {
   "cell_type": "code",
   "execution_count": 70,
   "metadata": {},
   "outputs": [],
   "source": [
    "image_rev = tuple([*[*reversed(image_size)][1:], 3])"
   ]
  },
  {
   "cell_type": "code",
   "execution_count": 71,
   "metadata": {},
   "outputs": [
    {
     "data": {
      "text/plain": [
       "(210, 300, 3)"
      ]
     },
     "execution_count": 71,
     "metadata": {},
     "output_type": "execute_result"
    }
   ],
   "source": [
    "image_rev"
   ]
  },
  {
   "cell_type": "code",
   "execution_count": 72,
   "metadata": {},
   "outputs": [],
   "source": [
    "import random\n",
    "import string\n",
    "characters = string.ascii_letters+string.ascii_letters+string.ascii_letters+string.digits+string.punctuation\n",
    "word_len = range(10)\n",
    "def random_sentance_generator():\n",
    "    sentance = ''\n",
    "    rn = random.choice(range(1, 20))\n",
    "    for i in range(rn):\n",
    "        sentance = sentance + ' ' + ''.join(random.choice(characters) for i in word_len)\n",
    "\n",
    "    return sentance"
   ]
  },
  {
   "cell_type": "code",
   "execution_count": 73,
   "metadata": {},
   "outputs": [],
   "source": [
    "from PIL import Image"
   ]
  },
  {
   "cell_type": "code",
   "execution_count": 74,
   "metadata": {},
   "outputs": [],
   "source": [
    "fonts = list(set([eval('cv2.{}'.format(i)) for i in dir(cv2) if i.startswith('FONT_')]))\n",
    "def put_random_text(image):\n",
    "\n",
    "    image_dim = image.shape[:-1]\n",
    "    #scale=1\n",
    "    image_cv = cv2.cvtColor((image * 255).astype(np.uint8), cv2.IMREAD_COLOR)\n",
    "    #image_cv = cv2.resize( image_cv, (image_dim[0]*scale, image_dim[1]*scale))\n",
    "                          \n",
    "    for _ in range(5):\n",
    "        x_loc = random.choice(range(image_cv.shape[0]))\n",
    "        y_loc = random.choice(range(image_cv.shape[1]))\n",
    "        loc = (x_loc, y_loc)\n",
    "\n",
    "\n",
    "        cv2.putText(img=image_cv, \n",
    "                    text=random_sentance_generator(), \n",
    "                    org=loc,\n",
    "                    fontFace=random.choice(fonts),\n",
    "                    fontScale=random.choice(range(1, 3)),\n",
    "                    color=(random.choice(range(256)), random.choice(range(256)), random.choice(range(256))),\n",
    "                    thickness=random.choice(range(3))\n",
    "                   )\n",
    "                \n",
    "    image_cv = np.asarray(Image.fromarray(np.asarray(cv2.resize(image_cv, image_dim)).astype(np.uint8), mode='RGB')\\\n",
    "                          .rotate(90, expand=True))/255.0\n",
    "\n",
    "    return image_cv"
   ]
  },
  {
   "cell_type": "code",
   "execution_count": 75,
   "metadata": {},
   "outputs": [],
   "source": [
    "def put_text_fn(images):\n",
    "    if len(images.shape)<4:\n",
    "        images = [images]\n",
    "    return np.array([put_random_text(image) for image in images])"
   ]
  },
  {
   "cell_type": "code",
   "execution_count": 76,
   "metadata": {},
   "outputs": [],
   "source": [
    "trans_fn = lambda images: np.asarray(put_text_fn(images))"
   ]
  },
  {
   "cell_type": "code",
   "execution_count": 77,
   "metadata": {
    "id": "O7vHmcI-BtEf"
   },
   "outputs": [],
   "source": [
    "from transformation.lmdb_transformer import SRLmdbTransformer"
   ]
  },
  {
   "cell_type": "code",
   "execution_count": 78,
   "metadata": {
    "id": "zNPxn5jzvQgA"
   },
   "outputs": [],
   "source": [
    "transformer = SRLmdbTransformer(image_dir=images_dir, trans_func=trans_fn,\n",
    "                              validation_pct = validation_percentage, valid_image_formats = valid_format)"
   ]
  },
  {
   "cell_type": "markdown",
   "metadata": {
    "id": "MOm_t8__-7Bl"
   },
   "source": [
    "# Evaluating numbers of training and validation sets"
   ]
  },
  {
   "cell_type": "code",
   "execution_count": 79,
   "metadata": {
    "colab": {
     "base_uri": "https://localhost:8080/"
    },
    "id": "kZ9lG8I2vUS3",
    "outputId": "3a514722-b19e-492b-a7c3-f7b315ff7b08"
   },
   "outputs": [
    {
     "name": "stdout",
     "output_type": "stream",
     "text": [
      "55 13\n"
     ]
    }
   ],
   "source": [
    "val_num_images = 0\n",
    "tra_num_images = 0\n",
    "for key in transformer.image_lists.keys():\n",
    "    tra_num_images += len(transformer.image_lists[key]['training'])\n",
    "    val_num_images += len(transformer.image_lists[key]['validation'])\n",
    "    \n",
    "print(tra_num_images, val_num_images)"
   ]
  },
  {
   "cell_type": "markdown",
   "metadata": {
    "id": "oD2xDBORSkqR"
   },
   "source": [
    "# Getting labels by filename"
   ]
  },
  {
   "cell_type": "code",
   "execution_count": 80,
   "metadata": {
    "id": "nTQB5YX2wkO_"
   },
   "outputs": [],
   "source": [
    "from transformation.transformative_custom_dataset import get_label_by_filename"
   ]
  },
  {
   "cell_type": "code",
   "execution_count": 81,
   "metadata": {
    "id": "2CKE-87kxBT6"
   },
   "outputs": [],
   "source": [
    "def get_label_by_filename(img_path):\n",
    "    name, _ = os.path.splitext(img_path)\n",
    "    vid_img_arr = name.split(sep=os.sep)[-2:]\n",
    "    return {'dir': (vid_img_arr)[0], 'filename': (vid_img_arr)[1]}"
   ]
  },
  {
   "cell_type": "markdown",
   "metadata": {
    "id": "3OlujHmNSzin"
   },
   "source": [
    "# Transforming images to LMDB"
   ]
  },
  {
   "cell_type": "code",
   "execution_count": 82,
   "metadata": {
    "colab": {
     "base_uri": "https://localhost:8080/",
     "height": 35
    },
    "id": "GIzMN-MnSlR3",
    "outputId": "d6fc9055-d7ed-4dfb-a523-22b9421f3d4a"
   },
   "outputs": [
    {
     "data": {
      "text/plain": [
       "'C:/Users/Kriple/PycharmProjects/Generative_Models/data/.CBSD68_remove_text_LMDB'"
      ]
     },
     "execution_count": 82,
     "metadata": {},
     "output_type": "execute_result"
    }
   ],
   "source": [
    "lmdb_dir = 'C:/Users/Kriple/PycharmProjects/Generative_Models/data/.CBSD68_remove_text_LMDB'\n",
    "lmdb_dir"
   ]
  },
  {
   "cell_type": "code",
   "execution_count": 83,
   "metadata": {
    "colab": {
     "base_uri": "https://localhost:8080/"
    },
    "id": "9QbescqLxOWr",
    "outputId": "6b31da52-6f27-4efe-caa7-f72e48604b93",
    "scrolled": true
   },
   "outputs": [
    {
     "name": "stdout",
     "output_type": "stream",
     "text": [
      "Total number of imgs for catagory 55\n",
      "Storing 55 C:/Users/Kriple/PycharmProjects/Generative_Models/data/.CBSD68_remove_text_LMDB\\ into _training from folder a\n"
     ]
    }
   ],
   "source": [
    "transformer.transform_store(labels_fn=get_label_by_filename, image_dir=images_dir, lmdb_dir=lmdb_dir,\n",
    "           category='training', target_size=image_size[:-1], color_mode='rgb')\n"
   ]
  },
  {
   "cell_type": "code",
   "execution_count": 84,
   "metadata": {
    "colab": {
     "base_uri": "https://localhost:8080/"
    },
    "id": "ywoa5olzxZ10",
    "outputId": "93a4202d-1efb-4fda-9446-2df67fce9a1d"
   },
   "outputs": [
    {
     "name": "stdout",
     "output_type": "stream",
     "text": [
      "Total number of imgs for catagory 13\n",
      "Storing 13 C:/Users/Kriple/PycharmProjects/Generative_Models/data/.CBSD68_remove_text_LMDB\\ into _validation from folder a\n"
     ]
    }
   ],
   "source": [
    "transformer.transform_store(labels_fn=get_label_by_filename, image_dir=images_dir, lmdb_dir=lmdb_dir\n",
    "           ,category='validation', target_size=image_size[:-1], color_mode='rgb')"
   ]
  },
  {
   "cell_type": "markdown",
   "metadata": {
    "id": "DI_9hqKuS9uo"
   },
   "source": [
    "# Saving meta data of dataset"
   ]
  },
  {
   "cell_type": "code",
   "execution_count": 85,
   "metadata": {
    "colab": {
     "base_uri": "https://localhost:8080/"
    },
    "id": "stYHyxv2vzX_",
    "outputId": "59ee9fbc-f0e9-408a-f1b3-209506247829"
   },
   "outputs": [
    {
     "name": "stdout",
     "output_type": "stream",
     "text": [
      "_training\n",
      "_validation\n"
     ]
    }
   ],
   "source": [
    "!ls C:/Users/Kriple/PycharmProjects/Generative_Models/data/.CBSD68_remove_text_LMDB"
   ]
  },
  {
   "cell_type": "code",
   "execution_count": 86,
   "metadata": {
    "id": "EuhkObY-vbMW"
   },
   "outputs": [],
   "source": [
    "\n",
    "info = {\n",
    "    'Dataset_name': \"CBSD68_skitch_LMDB\",\n",
    "    'Dataset_size': val_num_images + tra_num_images,\n",
    "    'val_num_images':val_num_images,\n",
    "    'tra_num_images' : tra_num_images\n",
    "}\n",
    "\n",
    "transformer.save_metadata(lmdb_dir, info)"
   ]
  },
  {
   "cell_type": "code",
   "execution_count": 87,
   "metadata": {
    "colab": {
     "base_uri": "https://localhost:8080/"
    },
    "id": "jUUBm8tWTfsR",
    "outputId": "3f4798da-a545-40ce-a7c8-84db6933a649",
    "scrolled": true
   },
   "outputs": [
    {
     "name": "stdout",
     "output_type": "stream",
     "text": [
      "total 1\n",
      "drwxr-xr-x 1 Kriple None   0 Nov  6 19:26 _training\n",
      "drwxr-xr-x 1 Kriple None   0 Nov  6 19:26 _validation\n",
      "-rw-r--r-- 1 Kriple None 114 Nov  6 19:26 meta_info.json\n"
     ]
    }
   ],
   "source": [
    "!ls -l C:/Users/Kriple/PycharmProjects/Generative_Models/data/.CBSD68_remove_text_LMDB/"
   ]
  },
  {
   "cell_type": "code",
   "execution_count": null,
   "metadata": {
    "id": "9KGb8x6xJt3F"
   },
   "outputs": [],
   "source": []
  }
 ],
 "metadata": {
  "accelerator": "GPU",
  "colab": {
   "collapsed_sections": [],
   "name": "CBSD68_transformation.ipynb",
   "provenance": []
  },
  "kernelspec": {
   "display_name": "Python 3",
   "language": "python",
   "name": "python3"
  },
  "language_info": {
   "codemirror_mode": {
    "name": "ipython",
    "version": 3
   },
   "file_extension": ".py",
   "mimetype": "text/x-python",
   "name": "python",
   "nbconvert_exporter": "python",
   "pygments_lexer": "ipython3",
   "version": "3.8.5"
  }
 },
 "nbformat": 4,
 "nbformat_minor": 1
}
