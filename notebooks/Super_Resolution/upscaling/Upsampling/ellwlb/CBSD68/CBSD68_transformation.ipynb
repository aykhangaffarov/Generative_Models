{
 "cells": [
  {
   "cell_type": "markdown",
   "metadata": {
    "id": "2hvjvSTG-Lwz"
   },
   "source": [
    "Start\n",
    "\n"
   ]
  },
  {
   "cell_type": "code",
   "execution_count": 1,
   "metadata": {
    "colab": {
     "base_uri": "https://localhost:8080/"
    },
    "id": "xZ0DoprWAmrg",
    "outputId": "c3b11fb3-99e6-4e71-b1e1-5b50425aa740"
   },
   "outputs": [],
   "source": [
    "%load_ext autoreload\n",
    "%autoreload 2"
   ]
  },
  {
   "cell_type": "markdown",
   "metadata": {
    "id": "4laNnarTOvFh"
   },
   "source": [
    "# Import some libraries"
   ]
  },
  {
   "cell_type": "code",
   "execution_count": 2,
   "metadata": {
    "id": "eU0M7tb0Bkke"
   },
   "outputs": [],
   "source": [
    "\n",
    "import os\n",
    "import sys\n",
    "import lmdb\n",
    "import pickle\n",
    "import numpy as np"
   ]
  },
  {
   "cell_type": "markdown",
   "metadata": {
    "id": "AF5q7zJt-fIH"
   },
   "source": [
    "# Cloning from github (Generative Models)\n",
    "\n"
   ]
  },
  {
   "cell_type": "code",
   "execution_count": 3,
   "metadata": {
    "colab": {
     "base_uri": "https://localhost:8080/"
    },
    "id": "YTncAI7cCAX4",
    "outputId": "0ab09743-01c9-4500-d6af-f1c9b8223d2f"
   },
   "outputs": [],
   "source": [
    "#!git clone https://github.com/kkahloots/Generative_Models.git # this is for loading git with correct brach\n",
    "\n"
   ]
  },
  {
   "cell_type": "markdown",
   "metadata": {
    "id": "QHHJoDw5QG6c"
   },
   "source": [
    "# Cloning from github (LMDB_Datasets)"
   ]
  },
  {
   "cell_type": "code",
   "execution_count": 4,
   "metadata": {
    "colab": {
     "base_uri": "https://localhost:8080/"
    },
    "id": "wQktIJ7WEq5u",
    "outputId": "744e28ae-ccfc-4255-9256-23eb5efe126d"
   },
   "outputs": [],
   "source": [
    "#!cd Generative_Models\n",
    "#!git clone https://github.com/azeghost/LMDB_Datasets # this is for loading git with correct brach"
   ]
  },
  {
   "cell_type": "code",
   "execution_count": 5,
   "metadata": {},
   "outputs": [
    {
     "name": "stdout",
     "output_type": "stream",
     "text": [
      "C:\\Users\\Kriple\\PycharmProjects\\Generative_Models\\notebooks\\Super_Resolution\\upscaling\\Upsampling\\ellwlb\\CBSD68\n"
     ]
    }
   ],
   "source": [
    "import os\n",
    "print(os.getcwd())"
   ]
  },
  {
   "cell_type": "code",
   "execution_count": 6,
   "metadata": {},
   "outputs": [
    {
     "name": "stdout",
     "output_type": "stream",
     "text": [
      "C:\\Users\\Kriple\\PycharmProjects\\Generative_Models\n"
     ]
    }
   ],
   "source": [
    "sep_local = os.path.sep\n",
    "#os.chdir('..'+sep_local+'..'+sep_local+'..'+sep_local+'..'+sep_local+'..'+sep_local+'..'+sep_local)\n",
    "os.chdir('C:/Users/Kriple/PycharmProjects/Generative_Models')\n",
    "print(os.getcwd())"
   ]
  },
  {
   "cell_type": "markdown",
   "metadata": {
    "id": "IbUARpNxQUwo"
   },
   "source": [
    "# LMDB transformer"
   ]
  },
  {
   "cell_type": "code",
   "execution_count": 7,
   "metadata": {
    "colab": {
     "base_uri": "https://localhost:8080/"
    },
    "id": "6q3PvemvB0my",
    "outputId": "f8c29c6a-a7ca-42b6-f455-aa7c79f1950b"
   },
   "outputs": [],
   "source": [
    "#!pip install colorlog"
   ]
  },
  {
   "cell_type": "code",
   "execution_count": 8,
   "metadata": {
    "id": "xZB3QYErC4DI"
   },
   "outputs": [],
   "source": [
    "from colorlog import ColoredFormatter"
   ]
  },
  {
   "cell_type": "markdown",
   "metadata": {
    "id": "2R2ISadk-tT_"
   },
   "source": [
    "\n",
    "\n",
    "\n",
    "**LMDB Transformer **"
   ]
  },
  {
   "cell_type": "code",
   "execution_count": 9,
   "metadata": {
    "id": "SmichrXnPp7U"
   },
   "outputs": [],
   "source": [
    "#!cp -r LMDB_Datasets/transformation/ Generative_Models/"
   ]
  },
  {
   "cell_type": "code",
   "execution_count": 10,
   "metadata": {
    "colab": {
     "base_uri": "https://localhost:8080/",
     "height": 35
    },
    "id": "_1w2swP2PMMh",
    "outputId": "61f450c7-b42a-4de5-ca72-1739e7b1e82b"
   },
   "outputs": [],
   "source": [
    "#import os\n",
    "#os.chdir('Generative_Models')\n",
    "#os.getcwd()"
   ]
  },
  {
   "cell_type": "code",
   "execution_count": 11,
   "metadata": {
    "id": "6vOue-tL_Q-W"
   },
   "outputs": [],
   "source": [
    "import tensorflow as tf"
   ]
  },
  {
   "cell_type": "code",
   "execution_count": 12,
   "metadata": {
    "id": "bzJu4s0N_yEj"
   },
   "outputs": [],
   "source": [
    "image_size_original=(481, 321, 3)\n",
    "scale = 3\n",
    "image_size = list(map(lambda x: x//scale , image_size_original[:-1])) + [image_size_original[-1]]\n",
    "image_size = (*image_size,)"
   ]
  },
  {
   "cell_type": "code",
   "execution_count": 13,
   "metadata": {},
   "outputs": [
    {
     "data": {
      "text/plain": [
       "(160, 107, 3)"
      ]
     },
     "execution_count": 13,
     "metadata": {},
     "output_type": "execute_result"
    }
   ],
   "source": [
    "image_size"
   ]
  },
  {
   "cell_type": "code",
   "execution_count": 14,
   "metadata": {
    "id": "iblHMxPd_iyT"
   },
   "outputs": [],
   "source": [
    "inputs_shape = list(map(lambda x: x//2 , image_size[:-1])) + [image_size[-1]]\n",
    "inputs_shape = (*inputs_shape,)"
   ]
  },
  {
   "cell_type": "code",
   "execution_count": null,
   "metadata": {
    "scrolled": true
   },
   "outputs": [],
   "source": []
  },
  {
   "cell_type": "code",
   "execution_count": 15,
   "metadata": {},
   "outputs": [],
   "source": [
    "import cv2\n",
    "import numpy as np"
   ]
  },
  {
   "cell_type": "code",
   "execution_count": 16,
   "metadata": {},
   "outputs": [],
   "source": [
    "small_size = tuple([a//3 for a in image_size_original][:-1])"
   ]
  },
  {
   "cell_type": "code",
   "execution_count": 17,
   "metadata": {
    "id": "jJV9exKb-UvY"
   },
   "outputs": [],
   "source": [
    "shrink_fn = lambda image: np.asarray(cv2.resize(image, dsize=small_size, interpolation=cv2.INTER_CUBIC))"
   ]
  },
  {
   "cell_type": "code",
   "execution_count": 18,
   "metadata": {
    "id": "mB5hgseZC8IQ"
   },
   "outputs": [],
   "source": [
    "images_dir = 'C:/Users/Kriple/PycharmProjects/Generative_Models/data/CBSD68' #Folder to images ( without name of the folder which we moved images before)\n",
    "validation_percentage = 30\n",
    "valid_format = 'png'"
   ]
  },
  {
   "cell_type": "code",
   "execution_count": 19,
   "metadata": {
    "id": "O7vHmcI-BtEf"
   },
   "outputs": [],
   "source": [
    "from transformation.lmdb_transformer import SRLmdbTransformer"
   ]
  },
  {
   "cell_type": "code",
   "execution_count": null,
   "metadata": {},
   "outputs": [],
   "source": []
  },
  {
   "cell_type": "code",
   "execution_count": null,
   "metadata": {},
   "outputs": [],
   "source": []
  },
  {
   "cell_type": "code",
   "execution_count": 20,
   "metadata": {
    "id": "zNPxn5jzvQgA"
   },
   "outputs": [],
   "source": [
    "transformer = SRLmdbTransformer(image_dir=images_dir, trans_func=shrink_fn,\n",
    "                              validation_pct = validation_percentage, valid_image_formats = valid_format)"
   ]
  },
  {
   "cell_type": "markdown",
   "metadata": {
    "id": "MOm_t8__-7Bl"
   },
   "source": [
    "# Evaluating numbers of training and validation sets"
   ]
  },
  {
   "cell_type": "code",
   "execution_count": 21,
   "metadata": {
    "colab": {
     "base_uri": "https://localhost:8080/"
    },
    "id": "kZ9lG8I2vUS3",
    "outputId": "3a514722-b19e-492b-a7c3-f7b315ff7b08"
   },
   "outputs": [
    {
     "name": "stdout",
     "output_type": "stream",
     "text": [
      "48 20\n"
     ]
    }
   ],
   "source": [
    "\n",
    "val_num_images = 0\n",
    "tra_num_images = 0\n",
    "for key in transformer.image_lists.keys():\n",
    "    tra_num_images += len(transformer.image_lists[key]['training'])\n",
    "    val_num_images += len(transformer.image_lists[key]['validation'])\n",
    "    \n",
    "print(tra_num_images, val_num_images)"
   ]
  },
  {
   "cell_type": "markdown",
   "metadata": {
    "id": "oD2xDBORSkqR"
   },
   "source": [
    "# Getting labels by filename"
   ]
  },
  {
   "cell_type": "code",
   "execution_count": 22,
   "metadata": {
    "id": "nTQB5YX2wkO_"
   },
   "outputs": [],
   "source": [
    "from transformation.transformative_custom_dataset import get_label_by_filename\n"
   ]
  },
  {
   "cell_type": "code",
   "execution_count": 23,
   "metadata": {
    "id": "2CKE-87kxBT6"
   },
   "outputs": [],
   "source": [
    "def get_label_by_filename(img_path):\n",
    "    name, _ = os.path.splitext(img_path)\n",
    "    vid_img_arr = name.split(sep=os.sep)[-2:]\n",
    "    return {'dir': (vid_img_arr)[0], 'filename': (vid_img_arr)[1]}"
   ]
  },
  {
   "cell_type": "markdown",
   "metadata": {
    "id": "3OlujHmNSzin"
   },
   "source": [
    "# Transforming images to LMDB"
   ]
  },
  {
   "cell_type": "code",
   "execution_count": 24,
   "metadata": {
    "colab": {
     "base_uri": "https://localhost:8080/",
     "height": 35
    },
    "id": "GIzMN-MnSlR3",
    "outputId": "d6fc9055-d7ed-4dfb-a523-22b9421f3d4a"
   },
   "outputs": [
    {
     "data": {
      "text/plain": [
       "'C:/Users/Kriple/PycharmProjects/Generative_Models/data/.CBSD68_low2high_LMDB'"
      ]
     },
     "execution_count": 24,
     "metadata": {},
     "output_type": "execute_result"
    }
   ],
   "source": [
    "lmdb_dir = 'C:/Users/Kriple/PycharmProjects/Generative_Models/data/.CBSD68_low2high_LMDB'\n",
    "lmdb_dir"
   ]
  },
  {
   "cell_type": "code",
   "execution_count": 25,
   "metadata": {
    "id": "bPUA6FerL4gU"
   },
   "outputs": [],
   "source": [
    "#!mv data/.CBSD68/02 data/.CBSD68/a"
   ]
  },
  {
   "cell_type": "code",
   "execution_count": 26,
   "metadata": {},
   "outputs": [
    {
     "data": {
      "text/plain": [
       "(481, 321)"
      ]
     },
     "execution_count": 26,
     "metadata": {},
     "output_type": "execute_result"
    }
   ],
   "source": [
    "image_size_original[:-1]"
   ]
  },
  {
   "cell_type": "code",
   "execution_count": 27,
   "metadata": {
    "colab": {
     "base_uri": "https://localhost:8080/"
    },
    "id": "9QbescqLxOWr",
    "outputId": "6b31da52-6f27-4efe-caa7-f72e48604b93",
    "scrolled": true
   },
   "outputs": [
    {
     "name": "stdout",
     "output_type": "stream",
     "text": [
      "Total number of imgs for catagory 48\n",
      "Storing 48 C:/Users/Kriple/PycharmProjects/Generative_Models/data/.CBSD68_low2high_LMDB\\ into _training from folder a\n"
     ]
    }
   ],
   "source": [
    "transformer.transform_store(labels_fn=get_label_by_filename, image_dir=images_dir, lmdb_dir=lmdb_dir,\n",
    "           category='training', target_size=image_size_original[:-1], color_mode='rgb')\n"
   ]
  },
  {
   "cell_type": "code",
   "execution_count": 28,
   "metadata": {},
   "outputs": [
    {
     "data": {
      "text/plain": [
       "[160, 107]"
      ]
     },
     "execution_count": 28,
     "metadata": {},
     "output_type": "execute_result"
    }
   ],
   "source": [
    "[a//3 for a in image_size_original][:-1]"
   ]
  },
  {
   "cell_type": "code",
   "execution_count": 29,
   "metadata": {},
   "outputs": [
    {
     "data": {
      "text/plain": [
       "(481, 321)"
      ]
     },
     "execution_count": 29,
     "metadata": {},
     "output_type": "execute_result"
    }
   ],
   "source": [
    "image_size_original[:-1]"
   ]
  },
  {
   "cell_type": "code",
   "execution_count": 30,
   "metadata": {
    "colab": {
     "base_uri": "https://localhost:8080/"
    },
    "id": "ywoa5olzxZ10",
    "outputId": "93a4202d-1efb-4fda-9446-2df67fce9a1d"
   },
   "outputs": [
    {
     "name": "stdout",
     "output_type": "stream",
     "text": [
      "Total number of imgs for catagory 20\n",
      "Storing 20 C:/Users/Kriple/PycharmProjects/Generative_Models/data/.CBSD68_low2high_LMDB\\ into _validation from folder a\n"
     ]
    }
   ],
   "source": [
    "transformer.transform_store(labels_fn=get_label_by_filename, image_dir=images_dir, lmdb_dir=lmdb_dir\n",
    "           ,category='validation', target_size=image_size_original[:-1], color_mode='rgb')"
   ]
  },
  {
   "cell_type": "markdown",
   "metadata": {
    "id": "DI_9hqKuS9uo"
   },
   "source": [
    "# Saving meta data of dataset"
   ]
  },
  {
   "cell_type": "code",
   "execution_count": 31,
   "metadata": {
    "id": "Cj9GY5fU8jeD"
   },
   "outputs": [],
   "source": [
    "#!touch C:/Users/Kriple/PycharmProjects/Generative_Models/data/.CBSD68_low2high_LMDB/meta_info.json #creating a json file"
   ]
  },
  {
   "cell_type": "code",
   "execution_count": 32,
   "metadata": {
    "colab": {
     "base_uri": "https://localhost:8080/"
    },
    "id": "stYHyxv2vzX_",
    "outputId": "59ee9fbc-f0e9-408a-f1b3-209506247829"
   },
   "outputs": [
    {
     "name": "stdout",
     "output_type": "stream",
     "text": [
      "_training\n",
      "_validation\n",
      "meta_info.json\n"
     ]
    }
   ],
   "source": [
    "!ls C:/Users/Kriple/PycharmProjects/Generative_Models/data/.CBSD68_low2high_LMDB"
   ]
  },
  {
   "cell_type": "code",
   "execution_count": 33,
   "metadata": {
    "id": "EuhkObY-vbMW"
   },
   "outputs": [],
   "source": [
    "\n",
    "info = {\n",
    "    'Dataset_name': \"CBSD68_low2high\",\n",
    "    'Dataset_size': val_num_images + tra_num_images,\n",
    "    'val_num_images':val_num_images,\n",
    "    'tra_num_images' : tra_num_images\n",
    "}\n",
    "\n",
    "transformer.save_metadata(lmdb_dir, info)"
   ]
  },
  {
   "cell_type": "code",
   "execution_count": 34,
   "metadata": {
    "colab": {
     "base_uri": "https://localhost:8080/"
    },
    "id": "0q_iDqL1JSPn",
    "outputId": "9c369e29-a7cf-4d1f-9f22-b13c15ed93c5"
   },
   "outputs": [],
   "source": [
    "#transformer.get_metadata(lmdb_dir) #checking whether it is working or not"
   ]
  },
  {
   "cell_type": "code",
   "execution_count": 35,
   "metadata": {
    "colab": {
     "base_uri": "https://localhost:8080/"
    },
    "id": "jUUBm8tWTfsR",
    "outputId": "3f4798da-a545-40ce-a7c8-84db6933a649",
    "scrolled": true
   },
   "outputs": [
    {
     "name": "stdout",
     "output_type": "stream",
     "text": [
      "total 1\n",
      "drwxr-xr-x 1 Kriple None   0 Nov  4 20:17 _training\n",
      "drwxr-xr-x 1 Kriple None   0 Nov  4 20:18 _validation\n",
      "-rw-r--r-- 1 Kriple None 111 Nov  4 20:19 meta_info.json\n"
     ]
    }
   ],
   "source": [
    "!ls -l C:/Users/Kriple/PycharmProjects/Generative_Models/data/.CBSD68_low2high_LMDB/"
   ]
  },
  {
   "cell_type": "code",
   "execution_count": 36,
   "metadata": {},
   "outputs": [
    {
     "ename": "NameError",
     "evalue": "name 'xxx' is not defined",
     "output_type": "error",
     "traceback": [
      "\u001b[1;31m---------------------------------------------------------------------------\u001b[0m",
      "\u001b[1;31mNameError\u001b[0m                                 Traceback (most recent call last)",
      "\u001b[1;32m<ipython-input-36-38170c08cb45>\u001b[0m in \u001b[0;36m<module>\u001b[1;34m\u001b[0m\n\u001b[1;32m----> 1\u001b[1;33m \u001b[0mxxx\u001b[0m\u001b[1;33m\u001b[0m\u001b[1;33m\u001b[0m\u001b[0m\n\u001b[0m",
      "\u001b[1;31mNameError\u001b[0m: name 'xxx' is not defined"
     ]
    }
   ],
   "source": [
    "xxx"
   ]
  },
  {
   "cell_type": "markdown",
   "metadata": {
    "id": "0oLt7G5pAorL"
   },
   "source": [
    "# I tried to read LMDB, but.."
   ]
  },
  {
   "cell_type": "code",
   "execution_count": null,
   "metadata": {
    "id": "8IGyp9KSxvi_"
   },
   "outputs": [],
   "source": [
    "import lmdb\n",
    "import pickle\n",
    "\n",
    "def read_many_lmdb(lmdb_dir, num_images):\n",
    "\n",
    "    images, labels = [], {}\n",
    "    env = lmdb.open(lmdb_dir, readonly=True)\n",
    "\n",
    "    # Start a new read transaction\n",
    "    with env.begin() as txn:\n",
    "        # Read all images in one single transaction, with one lock\n",
    "        # We could split this up into multiple transactions if needed\n",
    "        for image_id in range(num_images):\n",
    "            data = txn.get(f\"{image_id:08}\".encode(\"ascii\"))\n",
    "            # Remember that it's a CIFAR_Image object \n",
    "            # that is stored as the value\n",
    "            dataset = pickle.loads(data)\n",
    "            images.append(dataset.get_image())\n",
    "            \n",
    "            labels_list = [attr for attr in dir(dataset) if not callable(getattr(dataset, attr)) and (not attr.startswith(\"__\")) and \n",
    "                           (not attr in ['image','channels',  'size'] )]\n",
    "\n",
    "            for label in labels_list:\n",
    "                # _lab = {label: eval(f'dataset.{label}')}\n",
    "#                 print({label: eval(f'dataset.{label}')})\n",
    "                # labels = {**labels, **_lab}\n",
    "                if label in labels:\n",
    "                    labels[label].append(eval(f'dataset.{label}'))\n",
    "                else:\n",
    "                    labels = {label: [eval(f'dataset.{label}')] }\n",
    "                \n",
    "    env.close()\n",
    "    return {'images': images, **labels}"
   ]
  },
  {
   "cell_type": "markdown",
   "metadata": {
    "id": "FVf5bPMc_vb4"
   },
   "source": [
    "I don't know why it gives the following error."
   ]
  },
  {
   "cell_type": "code",
   "execution_count": null,
   "metadata": {
    "colab": {
     "base_uri": "https://localhost:8080/",
     "height": 287
    },
    "id": "Nou-PnS_x9cW",
    "outputId": "59836f9c-3f6b-46a7-a964-df6d430ea974"
   },
   "outputs": [],
   "source": [
    "ds = read_many_lmdb('/content/Generative_Models/CBSD68_LMDB/_training', 5)"
   ]
  },
  {
   "cell_type": "markdown",
   "metadata": {
    "id": "4oQPBKFXA5-8"
   },
   "source": [
    "# Zipping"
   ]
  },
  {
   "cell_type": "code",
   "execution_count": null,
   "metadata": {
    "colab": {
     "base_uri": "https://localhost:8080/"
    },
    "id": "dsl2F0T6bLi_",
    "outputId": "2d06d379-8cac-45f0-8e00-50c5fb006554"
   },
   "outputs": [],
   "source": [
    "!ls data/.CBSD68_low2high_LMDB/_training/"
   ]
  },
  {
   "cell_type": "code",
   "execution_count": null,
   "metadata": {
    "colab": {
     "base_uri": "https://localhost:8080/"
    },
    "id": "3LOLftrcA3LY",
    "outputId": "8e12c0dc-9e0b-478e-9298-74e2422ed6bd"
   },
   "outputs": [],
   "source": [
    "!tar -cvjf CBSD68_low2high_LMDB.tar.bz data/.CBSD68_low2high_LMDB"
   ]
  },
  {
   "cell_type": "code",
   "execution_count": null,
   "metadata": {
    "colab": {
     "base_uri": "https://localhost:8080/"
    },
    "id": "kLryEoClUPJ2",
    "outputId": "acd9f499-9f84-44a4-9a74-7fd1517797c0"
   },
   "outputs": [],
   "source": [
    "!ls CBSD68_low2high_LMDB.tar.bz -l"
   ]
  },
  {
   "cell_type": "code",
   "execution_count": null,
   "metadata": {
    "colab": {
     "base_uri": "https://localhost:8080/"
    },
    "id": "vr8gcMkiUT2j",
    "outputId": "bfb36e87-80ba-4799-f586-045e2cb3c5ab"
   },
   "outputs": [],
   "source": [
    "!zip -r LMDB_Datasets.zip  LMDB_Datasets/"
   ]
  },
  {
   "cell_type": "code",
   "execution_count": null,
   "metadata": {
    "colab": {
     "base_uri": "https://localhost:8080/"
    },
    "id": "FeZPSA5GJcwd",
    "outputId": "c98094d3-9363-4708-f9d4-4df1b8c2343f"
   },
   "outputs": [],
   "source": [
    "!ls"
   ]
  },
  {
   "cell_type": "code",
   "execution_count": null,
   "metadata": {
    "colab": {
     "base_uri": "https://localhost:8080/"
    },
    "id": "itwIzfEIJQaM",
    "outputId": "6d8eeb2f-ad0d-4dda-939a-8ffd71e892a5"
   },
   "outputs": [],
   "source": [
    "!tar -cvjf LMDB_Datasets.tar.bz LMDB_Datasets"
   ]
  },
  {
   "cell_type": "code",
   "execution_count": null,
   "metadata": {
    "id": "9KGb8x6xJt3F"
   },
   "outputs": [],
   "source": []
  }
 ],
 "metadata": {
  "accelerator": "GPU",
  "colab": {
   "collapsed_sections": [],
   "name": "CBSD68_transformation.ipynb",
   "provenance": []
  },
  "kernelspec": {
   "display_name": "Python 3",
   "language": "python",
   "name": "python3"
  },
  "language_info": {
   "codemirror_mode": {
    "name": "ipython",
    "version": 3
   },
   "file_extension": ".py",
   "mimetype": "text/x-python",
   "name": "python",
   "nbconvert_exporter": "python",
   "pygments_lexer": "ipython3",
   "version": "3.8.5"
  }
 },
 "nbformat": 4,
 "nbformat_minor": 1
}
