{
  "nbformat": 4,
  "nbformat_minor": 0,
  "metadata": {
    "accelerator": "GPU",
    "colab": {
      "name": "Pre_Upsampling.ipynb",
      "provenance": [],
      "private_outputs": true,
      "collapsed_sections": [],
      "toc_visible": true
    },
    "kernelspec": {
      "display_name": "Python 3",
      "language": "python",
      "name": "python3"
    },
    "language_info": {
      "codemirror_mode": {
        "name": "ipython",
        "version": 3
      },
      "file_extension": ".py",
      "mimetype": "text/x-python",
      "name": "python",
      "nbconvert_exporter": "python",
      "pygments_lexer": "ipython3",
      "version": "3.8.5"
    }
  },
  "cells": [
    {
      "cell_type": "code",
      "metadata": {
        "id": "jpUkP2vpV3P0"
      },
      "source": [
        "%load_ext autoreload\n",
        "%autoreload 2"
      ],
      "execution_count": null,
      "outputs": []
    },
    {
      "cell_type": "code",
      "metadata": {
        "id": "4pTqK0Pytciy"
      },
      "source": [
        "import tensorflow as tf\n",
        "print(tf.__version__)"
      ],
      "execution_count": null,
      "outputs": []
    },
    {
      "cell_type": "markdown",
      "metadata": {
        "id": "FaAUkhTxnzQT"
      },
      "source": [
        "# Environment prep for Colab\n",
        " - download git repo \n",
        " - install required pip packages"
      ]
    },
    {
      "cell_type": "code",
      "metadata": {
        "id": "0zbi2r-8nENp"
      },
      "source": [
        "!git clone https://github.com/kkahloots/Generative_Models # this is for loading git with correct brach"
      ],
      "execution_count": null,
      "outputs": []
    },
    {
      "cell_type": "code",
      "metadata": {
        "id": "lC-25diVjJsw"
      },
      "source": [
        "#from google.colab import drive\n",
        "#drive.mount('/content/drive')\n",
        "#!mkdir /content/drive/My\\ Drive/Results\n",
        "#MAIN_SAVE_DIR = '/content/drive/My Drive/Results'\n",
        "#IMG_DIR = '/content/Generative_Models/data/.CBSD68' #change .qbert here as well\n",
        "\n"
      ],
      "execution_count": null,
      "outputs": []
    },
    {
      "cell_type": "code",
      "metadata": {
        "id": "d4BSW2ZInEKA"
      },
      "source": [
        "#!mv Generative_Models/data/.CBSD68/CBSD68.tar.bz Generative_Models/data/"
      ],
      "execution_count": null,
      "outputs": []
    },
    {
      "cell_type": "markdown",
      "metadata": {
        "id": "cP2DxgJQNh89"
      },
      "source": [
        "# Settings"
      ]
    },
    {
      "cell_type": "code",
      "metadata": {
        "id": "lBkQvXhrC5dD"
      },
      "source": [
        "import os\n",
        "print(os.getcwd())"
      ],
      "execution_count": null,
      "outputs": []
    },
    {
      "cell_type": "code",
      "metadata": {
        "id": "dEwmfIVPNh89"
      },
      "source": [
        "%env TF_KERAS = 1\n",
        "\n",
        "sep_local = os.path.sep\n",
        "\n",
        "import sys\n",
        "sys.path.append('..'+sep_local+'..')\n",
        "print(sep_local)"
      ],
      "execution_count": null,
      "outputs": []
    },
    {
      "cell_type": "code",
      "metadata": {
        "id": "pPvm6B2fNh9E"
      },
      "source": [
        "os.chdir('Generative_Models')\n",
        "print(os.getcwd())"
      ],
      "execution_count": null,
      "outputs": []
    },
    {
      "cell_type": "code",
      "metadata": {
        "id": "nuhdhPanCoP3"
      },
      "source": [
        "!pip -q install -r requirements.txt"
      ],
      "execution_count": null,
      "outputs": []
    },
    {
      "cell_type": "markdown",
      "metadata": {
        "id": "adBKUv8JoNHY"
      },
      "source": [
        "# Unzip"
      ]
    },
    {
      "cell_type": "code",
      "metadata": {
        "id": "dV2L7nGkDmur"
      },
      "source": [
        "!ls -a data/.CBSD68_low2high"
      ],
      "execution_count": null,
      "outputs": []
    },
    {
      "cell_type": "code",
      "metadata": {
        "id": "_E02dQATFAHD"
      },
      "source": [
        "!cat  data/.CBSD68_low2high_LMDB/.CBSD68_low2high_LMDB.tar.*  > data/.CBSD68_low2high_LMDB/.CBSD68_low2high_LMDB.tar"
      ],
      "execution_count": null,
      "outputs": []
    },
    {
      "cell_type": "code",
      "metadata": {
        "id": "EoJOjd0koPV9"
      },
      "source": [
        "!tar -xvf data/.CBSD68_low2high_LMDB/.CBSD68_low2high_LMDB.tar"
      ],
      "execution_count": null,
      "outputs": []
    },
    {
      "cell_type": "code",
      "metadata": {
        "id": "j0vKl-TvGaxK"
      },
      "source": [
        "!ls -a .CBSD68_low2high_LMDB"
      ],
      "execution_count": null,
      "outputs": []
    },
    {
      "cell_type": "code",
      "metadata": {
        "id": "3FiBkKsjStoa"
      },
      "source": [
        "#!mv data/.CBSD68_low2high_LMDB/ data/SR"
      ],
      "execution_count": null,
      "outputs": []
    },
    {
      "cell_type": "code",
      "metadata": {
        "id": "ZPqgoyVWSVtx"
      },
      "source": [
        "#!ls data/SR"
      ],
      "execution_count": null,
      "outputs": []
    },
    {
      "cell_type": "markdown",
      "metadata": {
        "id": "yO-0nI9608uf"
      },
      "source": [
        "# **Loading** Dataset"
      ]
    },
    {
      "cell_type": "code",
      "metadata": {
        "id": "Etjuuv_D1Qax"
      },
      "source": [
        "from training.generators.from_lmdb.lmdb_image_generator import get_generators"
      ],
      "execution_count": null,
      "outputs": []
    },
    {
      "cell_type": "code",
      "metadata": {
        "id": "ccy0nIqo1p0M"
      },
      "source": [
        "dataset_name='CBSD68_low2high'\n",
        "lmdb_dir = '.CBSD68_low2high_LMDB'"
      ],
      "execution_count": null,
      "outputs": []
    },
    {
      "cell_type": "code",
      "metadata": {
        "id": "thZNSgqQsL2j"
      },
      "source": [
        "batch_size = 10\n",
        "latents_dim = 50\n",
        "intermediate_dim = 50"
      ],
      "execution_count": null,
      "outputs": []
    },
    {
      "cell_type": "code",
      "metadata": {
        "id": "L1z8fF3X4GLU"
      },
      "source": [
        "from transformation.lmdb_transformer import LmdbTransformer"
      ],
      "execution_count": null,
      "outputs": []
    },
    {
      "cell_type": "code",
      "metadata": {
        "id": "y_0PRFDDGVZL"
      },
      "source": [
        ""
      ],
      "execution_count": null,
      "outputs": []
    },
    {
      "cell_type": "code",
      "metadata": {
        "id": "2RNk8Kvh4LpE",
        "scrolled": true
      },
      "source": [
        "train_generator, val_generator = get_generators(\n",
        "        lmdb_dir=lmdb_dir,\n",
        "        batch_size=batch_size,\n",
        "        episode_len=None,\n",
        "        episode_shift=None,\n",
        "        return_itr=False,\n",
        "        class_mode='sr'\n",
        ")"
      ],
      "execution_count": null,
      "outputs": []
    },
    {
      "cell_type": "code",
      "metadata": {
        "id": "rdaXnN8yeHng"
      },
      "source": [
        "for data in train_generator:\n",
        "    break\n",
        "#data = next(train_itr)\n",
        "print(data.keys())"
      ],
      "execution_count": null,
      "outputs": []
    },
    {
      "cell_type": "code",
      "metadata": {
        "id": "p688XTHCCoQL"
      },
      "source": [
        "import matplotlib.pyplot as plt"
      ],
      "execution_count": null,
      "outputs": []
    },
    {
      "cell_type": "code",
      "metadata": {
        "id": "JAJTQd8MCoQN"
      },
      "source": [
        "from PIL import Image"
      ],
      "execution_count": null,
      "outputs": []
    },
    {
      "cell_type": "code",
      "metadata": {
        "id": "Z_7YZ6HZCoQO"
      },
      "source": [
        "import numpy as np"
      ],
      "execution_count": null,
      "outputs": []
    },
    {
      "cell_type": "code",
      "metadata": {
        "id": "z6kTHJ8YCoQQ"
      },
      "source": [
        "source_img_size, target_img_size =  data['xt0'][0].shape, data['xt1'][0].shape\n",
        "source_img_size, target_img_size"
      ],
      "execution_count": null,
      "outputs": []
    },
    {
      "cell_type": "code",
      "metadata": {
        "id": "UwaTau--CoQS"
      },
      "source": [
        "#source_img_size, target_img_size = (32, 48, 3), (10, 16, 3)"
      ],
      "execution_count": null,
      "outputs": []
    },
    {
      "cell_type": "code",
      "metadata": {
        "id": "fx-omFpzCoQT"
      },
      "source": [
        "Image.fromarray((data['xt0'][0].numpy() * 255.0).astype(np.uint8), mode='RGB')"
      ],
      "execution_count": null,
      "outputs": []
    },
    {
      "cell_type": "code",
      "metadata": {
        "id": "dGsmGeo_CoQV"
      },
      "source": [
        "image = data['xt1'][0].numpy()"
      ],
      "execution_count": null,
      "outputs": []
    },
    {
      "cell_type": "code",
      "metadata": {
        "id": "TQUhPFOMCoQX"
      },
      "source": [
        "Image.fromarray((data['xt1'][0].numpy() * 255.0).astype(np.uint8), mode='RGB')"
      ],
      "execution_count": null,
      "outputs": []
    },
    {
      "cell_type": "code",
      "metadata": {
        "id": "VZ2BRJMQVs3S"
      },
      "source": [
        "import numpy as np\n",
        "from collections.abc import Iterable\n",
        "if isinstance(source_img_size, Iterable):\n",
        "    flat_outputs_shape = np.prod(source_img_size)\n",
        "flat_outputs_shape    "
      ],
      "execution_count": null,
      "outputs": []
    },
    {
      "cell_type": "markdown",
      "metadata": {
        "id": "JuafIGAykx6q"
      },
      "source": [
        "# Model's Layers definition"
      ]
    },
    {
      "cell_type": "code",
      "metadata": {
        "id": "nlyjHfTbkx6r"
      },
      "source": [
        "kernel_size=3\n",
        "stride = 2"
      ],
      "execution_count": null,
      "outputs": []
    },
    {
      "cell_type": "code",
      "metadata": {
        "id": "UryhJFPLkx6u"
      },
      "source": [
        "c = (55, 75)#list(map(lambda x: x// (stride*stride), source_img_size[:-1]))\n",
        "c = (*c, intermediate_dim)\n",
        "c"
      ],
      "execution_count": null,
      "outputs": []
    },
    {
      "cell_type": "code",
      "metadata": {
        "id": "kInxGIlrCoQe"
      },
      "source": [
        "np.product(c)"
      ],
      "execution_count": null,
      "outputs": []
    },
    {
      "cell_type": "code",
      "metadata": {
        "id": "_4tZx_f7kx60"
      },
      "source": [
        "enc_lays = [\n",
        "    tf.keras.layers.UpSampling2D(size=(2, 2)),\n",
        "    tf.keras.layers.UpSampling2D(size=(2, 2)),\n",
        "    tf.keras.layers.Flatten(),\n",
        "    # No activation\n",
        "    tf.keras.layers.Dense(latents_dim)\n",
        "]\n",
        "\n",
        "dec_lays = [\n",
        "    tf.keras.layers.Dense(units=np.product(c), activation=tf.nn.relu),\n",
        "    tf.keras.layers.Reshape(target_shape=c),\n",
        "    tf.keras.layers.Conv2DTranspose(filters=intermediate_dim, kernel_size=kernel_size, strides=(stride, stride), padding=\"SAME\", activation='relu'),\n",
        "    tf.keras.layers.Conv2DTranspose(filters=intermediate_dim, kernel_size=kernel_size, strides=(stride, stride), padding=\"SAME\", activation='relu'),\n",
        "    # No activation\n",
        "    tf.keras.layers.Conv2DTranspose(filters=3, kernel_size=kernel_size, strides=(1, 1), padding=\"SAME\")\n",
        "]"
      ],
      "execution_count": null,
      "outputs": []
    },
    {
      "cell_type": "markdown",
      "metadata": {
        "id": "dwJyfeImkx65"
      },
      "source": [
        "# Model definition"
      ]
    },
    {
      "cell_type": "code",
      "metadata": {
        "id": "KgsWtKI0kx65"
      },
      "source": [
        "model_name = dataset_name+'_Conv_Pre_Upsampling_LMDB'\n",
        "#windows\n",
        "#experiments_dir='..' + sep_local + '..' + sep_local +'..' + sep_local + '..' + sep_local + '..'+sep_local+'experiments'+sep_local + model_name\n",
        "\n",
        "#linux \n",
        "experiments_dir=os.getcwd()+ sep_local  +'experiments'+sep_local + model_name"
      ],
      "execution_count": null,
      "outputs": []
    },
    {
      "cell_type": "code",
      "metadata": {
        "id": "QR07vyNrCoQj"
      },
      "source": [
        "target_img_size, source_img_size"
      ],
      "execution_count": null,
      "outputs": []
    },
    {
      "cell_type": "code",
      "metadata": {
        "id": "-q9NueoMkx7F"
      },
      "source": [
        "variables_params = \\\n",
        "[\n",
        "    {\n",
        "        'name': 'inference',  #'upsampler',\n",
        "        'inputs_shape':target_img_size,\n",
        "        'outputs_shape':latents_dim,\n",
        "        'layers': enc_lays\n",
        "    }\n",
        "\n",
        "    ,\n",
        "    \n",
        "        {\n",
        "        'name': 'generative', #'constructive', \n",
        "        'inputs_shape':latents_dim,\n",
        "        'outputs_shape':source_img_size,\n",
        "        'layers':dec_lays\n",
        "    }\n",
        "]"
      ],
      "execution_count": null,
      "outputs": []
    },
    {
      "cell_type": "code",
      "metadata": {
        "id": "8NFXibVOkx7L",
        "pycharm": {
          "name": "#%%\n"
        }
      },
      "source": [
        "from os.path import abspath\n",
        "from utils.data_and_files.file_utils import create_if_not_exist\n",
        "_restore = os.path.join(experiments_dir, 'var_save_dir')\n",
        "create_if_not_exist(_restore)\n",
        "absolute = abspath(_restore)\n",
        "print(\"Restore_dir\",absolute)\n",
        "absolute = abspath(experiments_dir)\n",
        "print(\"Recording_dir\",absolute)\n",
        "print(\"Current working dir\",os.getcwd())"
      ],
      "execution_count": null,
      "outputs": []
    },
    {
      "cell_type": "code",
      "metadata": {
        "id": "WWnSN9Sjkx7P"
      },
      "source": [
        "from training.autoencoding_basic.transformative.AE import autoencoder as AE"
      ],
      "execution_count": null,
      "outputs": []
    },
    {
      "cell_type": "code",
      "metadata": {
        "id": "bJ05n010kx7T",
        "scrolled": false
      },
      "source": [
        "ae = AE( \n",
        "    name=model_name,\n",
        "    latents_dim=latents_dim,\n",
        "    batch_size=batch_size,\n",
        "    variables_params=variables_params, \n",
        "    filepath=None,#to restore trained model, set filepath=_restore\n",
        "    episode_len=1\n",
        "    )"
      ],
      "execution_count": null,
      "outputs": []
    },
    {
      "cell_type": "code",
      "metadata": {
        "id": "nXiXok8jCoQs"
      },
      "source": [
        "ae.compile()\n",
        "#ae.compile(metrics=None)"
      ],
      "execution_count": null,
      "outputs": []
    },
    {
      "cell_type": "markdown",
      "metadata": {
        "id": "Bf5WOMHMkx7b"
      },
      "source": [
        "# Callbacks"
      ]
    },
    {
      "cell_type": "code",
      "metadata": {
        "id": "4h9PJzlWkx7c"
      },
      "source": [
        "# added for linux warning suppression\n",
        "import logging\n",
        "mpl_logger = logging.getLogger('matplotlib')\n",
        "mpl_logger.setLevel(logging.WARNING)\n",
        "\n",
        "\n",
        "from training.callbacks.trace_image_reconstruction import trace_reconstruction\n",
        "from training.callbacks.save_model import ModelSaver"
      ],
      "execution_count": null,
      "outputs": []
    },
    {
      "cell_type": "code",
      "metadata": {
        "id": "touTmsjckx7o"
      },
      "source": [
        "es = tf.keras.callbacks.EarlyStopping(\n",
        "    monitor='loss', \n",
        "    min_delta=1e-12, \n",
        "    patience=12, \n",
        "    verbose=1, \n",
        "    restore_best_weights=False\n",
        ")"
      ],
      "execution_count": null,
      "outputs": []
    },
    {
      "cell_type": "code",
      "metadata": {
        "id": "Yf9Iu8iKkx7t"
      },
      "source": [
        "ms = ModelSaver(filepath=_restore)"
      ],
      "execution_count": null,
      "outputs": []
    },
    {
      "cell_type": "code",
      "metadata": {
        "id": "irKXL5j2kx7x"
      },
      "source": [
        "csv_dir = os.path.join(experiments_dir, 'csv_dir')\n",
        "create_if_not_exist(csv_dir)\n",
        "csv_dir = os.path.join(csv_dir, model_name+'.csv')\n",
        "csv_log = tf.keras.callbacks.CSVLogger(csv_dir, append=True)\n",
        "absolute = abspath(csv_dir)\n",
        "print(\"Csv_dir\",absolute)"
      ],
      "execution_count": null,
      "outputs": []
    },
    {
      "cell_type": "code",
      "metadata": {
        "id": "625keQNvkx72"
      },
      "source": [
        "image_reconstuction_dir = os.path.join(experiments_dir, 'image_reconstuction_dir')\n",
        "create_if_not_exist(image_reconstuction_dir)\n",
        "absolute = abspath(image_reconstuction_dir)\n",
        "print(\"image_reconstuction_dir\",absolute)"
      ],
      "execution_count": null,
      "outputs": []
    },
    {
      "cell_type": "code",
      "metadata": {
        "id": "EJPJoe6JCoQ5"
      },
      "source": [
        "img_reconst = trace_reconstruction(filepath=image_reconstuction_dir, image=image, gen_freq=5)"
      ],
      "execution_count": null,
      "outputs": []
    },
    {
      "cell_type": "markdown",
      "metadata": {
        "id": "Fz8q2wlEkx8D",
        "pycharm": {
          "name": "#%% md\n"
        }
      },
      "source": [
        "# Model Training"
      ]
    },
    {
      "cell_type": "code",
      "metadata": {
        "id": "dVbzRKVokx8E",
        "scrolled": false
      },
      "source": [
        "ae.fit(\n",
        "    x=train_generator,\n",
        "    input_kw=None,\n",
        "    steps_per_epoch=int(1e4),\n",
        "    epochs=int(1e6), \n",
        "    verbose=1,\n",
        "    callbacks=[ es, ms, csv_log, img_reconst],\n",
        "    workers=-1,\n",
        "    use_multiprocessing=True,\n",
        "    validation_data=val_generator,\n",
        "    validation_steps=int(1e4)\n",
        "    )"
      ],
      "execution_count": null,
      "outputs": []
    },
    {
      "cell_type": "code",
      "metadata": {
        "id": "yM_n49q_CoQ8"
      },
      "source": [
        "967500 941280"
      ],
      "execution_count": null,
      "outputs": []
    }
  ]
}