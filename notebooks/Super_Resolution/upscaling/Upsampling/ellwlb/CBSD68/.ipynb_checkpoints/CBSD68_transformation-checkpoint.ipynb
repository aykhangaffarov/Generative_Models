{
 "cells": [
  {
   "cell_type": "markdown",
   "metadata": {
    "id": "2hvjvSTG-Lwz"
   },
   "source": [
    "Start\n",
    "\n"
   ]
  },
  {
   "cell_type": "code",
   "execution_count": null,
   "metadata": {
    "colab": {
     "base_uri": "https://localhost:8080/"
    },
    "id": "xZ0DoprWAmrg",
    "outputId": "c3b11fb3-99e6-4e71-b1e1-5b50425aa740"
   },
   "outputs": [
    {
     "name": "stdout",
     "output_type": "stream",
     "text": [
      "The autoreload extension is already loaded. To reload it, use:\n",
      "  %reload_ext autoreload\n"
     ]
    }
   ],
   "source": [
    "\n",
    "%load_ext autoreload\n",
    "%autoreload 2"
   ]
  },
  {
   "cell_type": "markdown",
   "metadata": {
    "id": "4laNnarTOvFh"
   },
   "source": [
    "# Import some libraries"
   ]
  },
  {
   "cell_type": "code",
   "execution_count": null,
   "metadata": {
    "id": "eU0M7tb0Bkke"
   },
   "outputs": [],
   "source": [
    "\n",
    "import os\n",
    "import sys\n",
    "import lmdb\n",
    "import pickle\n",
    "import numpy as np"
   ]
  },
  {
   "cell_type": "markdown",
   "metadata": {
    "id": "AF5q7zJt-fIH"
   },
   "source": [
    "# Cloning from github (Generative Models)\n",
    "\n"
   ]
  },
  {
   "cell_type": "code",
   "execution_count": null,
   "metadata": {
    "colab": {
     "base_uri": "https://localhost:8080/"
    },
    "id": "YTncAI7cCAX4",
    "outputId": "0ab09743-01c9-4500-d6af-f1c9b8223d2f"
   },
   "outputs": [
    {
     "name": "stdout",
     "output_type": "stream",
     "text": [
      "Cloning into 'Generative_Models'...\n",
      "remote: Enumerating objects: 164, done.\u001b[K\n",
      "remote: Counting objects: 100% (164/164), done.\u001b[K\n",
      "remote: Compressing objects: 100% (128/128), done.\u001b[K\n",
      "remote: Total 15891 (delta 70), reused 91 (delta 32), pack-reused 15727\u001b[K\n",
      "Receiving objects: 100% (15891/15891), 733.49 MiB | 40.58 MiB/s, done.\n",
      "Resolving deltas: 100% (10817/10817), done.\n",
      "Checking out files: 100% (1697/1697), done.\n"
     ]
    }
   ],
   "source": [
    "!git clone https://github.com/kkahloots/Generative_Models.git # this is for loading git with correct brach\n",
    "\n"
   ]
  },
  {
   "cell_type": "markdown",
   "metadata": {
    "id": "QHHJoDw5QG6c"
   },
   "source": [
    "# Cloning from github (LMDB_Datasets)"
   ]
  },
  {
   "cell_type": "code",
   "execution_count": null,
   "metadata": {
    "colab": {
     "base_uri": "https://localhost:8080/"
    },
    "id": "wQktIJ7WEq5u",
    "outputId": "744e28ae-ccfc-4255-9256-23eb5efe126d"
   },
   "outputs": [
    {
     "name": "stdout",
     "output_type": "stream",
     "text": [
      "Cloning into 'LMDB_Datasets'...\n",
      "remote: Enumerating objects: 43, done.\u001b[K\n",
      "remote: Counting objects:   2% (1/43)\u001b[K\r",
      "remote: Counting objects:   4% (2/43)\u001b[K\r",
      "remote: Counting objects:   6% (3/43)\u001b[K\r",
      "remote: Counting objects:   9% (4/43)\u001b[K\r",
      "remote: Counting objects:  11% (5/43)\u001b[K\r",
      "remote: Counting objects:  13% (6/43)\u001b[K\r",
      "remote: Counting objects:  16% (7/43)\u001b[K\r",
      "remote: Counting objects:  18% (8/43)\u001b[K\r",
      "remote: Counting objects:  20% (9/43)\u001b[K\r",
      "remote: Counting objects:  23% (10/43)\u001b[K\r",
      "remote: Counting objects:  25% (11/43)\u001b[K\r",
      "remote: Counting objects:  27% (12/43)\u001b[K\r",
      "remote: Counting objects:  30% (13/43)\u001b[K\r",
      "remote: Counting objects:  32% (14/43)\u001b[K\r",
      "remote: Counting objects:  34% (15/43)\u001b[K\r",
      "remote: Counting objects:  37% (16/43)\u001b[K\r",
      "remote: Counting objects:  39% (17/43)\u001b[K\r",
      "remote: Counting objects:  41% (18/43)\u001b[K\r",
      "remote: Counting objects:  44% (19/43)\u001b[K\r",
      "remote: Counting objects:  46% (20/43)\u001b[K\r",
      "remote: Counting objects:  48% (21/43)\u001b[K\r",
      "remote: Counting objects:  51% (22/43)\u001b[K\r",
      "remote: Counting objects:  53% (23/43)\u001b[K\r",
      "remote: Counting objects:  55% (24/43)\u001b[K\r",
      "remote: Counting objects:  58% (25/43)\u001b[K\r",
      "remote: Counting objects:  60% (26/43)\u001b[K\r",
      "remote: Counting objects:  62% (27/43)\u001b[K\r",
      "remote: Counting objects:  65% (28/43)\u001b[K\r",
      "remote: Counting objects:  67% (29/43)\u001b[K\r",
      "remote: Counting objects:  69% (30/43)\u001b[K\r",
      "remote: Counting objects:  72% (31/43)\u001b[K\r",
      "remote: Counting objects:  74% (32/43)\u001b[K\r",
      "remote: Counting objects:  76% (33/43)\u001b[K\r",
      "remote: Counting objects:  79% (34/43)\u001b[K\r",
      "remote: Counting objects:  81% (35/43)\u001b[K\r",
      "remote: Counting objects:  83% (36/43)\u001b[K\r",
      "remote: Counting objects:  86% (37/43)\u001b[K\r",
      "remote: Counting objects:  88% (38/43)\u001b[K\r",
      "remote: Counting objects:  90% (39/43)\u001b[K\r",
      "remote: Counting objects:  93% (40/43)\u001b[K\r",
      "remote: Counting objects:  95% (41/43)\u001b[K\r",
      "remote: Counting objects:  97% (42/43)\u001b[K\r",
      "remote: Counting objects: 100% (43/43)\u001b[K\r",
      "remote: Counting objects: 100% (43/43), done.\u001b[K\n",
      "remote: Compressing objects: 100% (35/35), done.\u001b[K\n",
      "remote: Total 257 (delta 19), reused 20 (delta 7), pack-reused 214\u001b[K\n",
      "Receiving objects: 100% (257/257), 407.92 MiB | 45.81 MiB/s, done.\n",
      "Resolving deltas: 100% (116/116), done.\n"
     ]
    }
   ],
   "source": [
    "!cd Generative_Models\n",
    "!git clone https://github.com/azeghost/LMDB_Datasets # this is for loading git with correct brach"
   ]
  },
  {
   "cell_type": "code",
   "execution_count": null,
   "metadata": {
    "colab": {
     "base_uri": "https://localhost:8080/"
    },
    "id": "wXfRwVySFx12",
    "outputId": "a575b58a-24b1-44af-a10c-f38973435080"
   },
   "outputs": [
    {
     "name": "stdout",
     "output_type": "stream",
     "text": [
      "0000.png  0009.png  0018.png  0027.png\t0036.png  0045.png  0054.png  0063.png\n",
      "0001.png  0010.png  0019.png  0028.png\t0037.png  0046.png  0055.png  0064.png\n",
      "0002.png  0011.png  0020.png  0029.png\t0038.png  0047.png  0056.png  0065.png\n",
      "0003.png  0012.png  0021.png  0030.png\t0039.png  0048.png  0057.png  0066.png\n",
      "0004.png  0013.png  0022.png  0031.png\t0040.png  0049.png  0058.png  0067.png\n",
      "0005.png  0014.png  0023.png  0032.png\t0041.png  0050.png  0059.png\n",
      "0006.png  0015.png  0024.png  0033.png\t0042.png  0051.png  0060.png\n",
      "0007.png  0016.png  0025.png  0034.png\t0043.png  0052.png  0061.png\n",
      "0008.png  0017.png  0026.png  0035.png\t0044.png  0053.png  0062.png\n"
     ]
    }
   ],
   "source": [
    "!ls data/.CBSD68/01"
   ]
  },
  {
   "cell_type": "code",
   "execution_count": null,
   "metadata": {
    "colab": {
     "base_uri": "https://localhost:8080/"
    },
    "id": "tHbKcYPT0fbp",
    "outputId": "4b6a7302-9c4e-4a16-99f6-8ee840144b74"
   },
   "outputs": [
    {
     "name": "stdout",
     "output_type": "stream",
     "text": [
      "01  CBSD68.tar.bz\n"
     ]
    }
   ],
   "source": [
    "!ls Generative_Models/data/.CBSD68/"
   ]
  },
  {
   "cell_type": "markdown",
   "metadata": {
    "id": "IbUARpNxQUwo"
   },
   "source": [
    "# LMDB transformer"
   ]
  },
  {
   "cell_type": "code",
   "execution_count": null,
   "metadata": {
    "colab": {
     "base_uri": "https://localhost:8080/"
    },
    "id": "6q3PvemvB0my",
    "outputId": "f8c29c6a-a7ca-42b6-f455-aa7c79f1950b"
   },
   "outputs": [
    {
     "name": "stdout",
     "output_type": "stream",
     "text": [
      "Collecting colorlog\n",
      "  Downloading https://files.pythonhosted.org/packages/8c/10/0b39be7ff1adb8888fe87c8628c071dec5ac282ac1c2312221f5feb09215/colorlog-4.4.0-py2.py3-none-any.whl\n",
      "Installing collected packages: colorlog\n",
      "Successfully installed colorlog-4.4.0\n"
     ]
    }
   ],
   "source": [
    "!pip install colorlog"
   ]
  },
  {
   "cell_type": "code",
   "execution_count": null,
   "metadata": {
    "id": "xZB3QYErC4DI"
   },
   "outputs": [],
   "source": [
    "from colorlog import ColoredFormatter"
   ]
  },
  {
   "cell_type": "markdown",
   "metadata": {
    "id": "2R2ISadk-tT_"
   },
   "source": [
    "\n",
    "\n",
    "\n",
    "**LMDB Transformer **"
   ]
  },
  {
   "cell_type": "code",
   "execution_count": null,
   "metadata": {
    "id": "SmichrXnPp7U"
   },
   "outputs": [],
   "source": [
    "!cp -r LMDB_Datasets/transformation/ Generative_Models/"
   ]
  },
  {
   "cell_type": "code",
   "execution_count": null,
   "metadata": {
    "colab": {
     "base_uri": "https://localhost:8080/",
     "height": 35
    },
    "id": "_1w2swP2PMMh",
    "outputId": "61f450c7-b42a-4de5-ca72-1739e7b1e82b"
   },
   "outputs": [
    {
     "data": {
      "application/vnd.google.colaboratory.intrinsic+json": {
       "type": "string"
      },
      "text/plain": [
       "'/content/Generative_Models'"
      ]
     },
     "execution_count": 9,
     "metadata": {
      "tags": []
     },
     "output_type": "execute_result"
    }
   ],
   "source": [
    "import os\n",
    "os.chdir('Generative_Models')\n",
    "os.getcwd()"
   ]
  },
  {
   "cell_type": "markdown",
   "metadata": {
    "id": "ZJleDjKq62KS"
   },
   "source": []
  },
  {
   "cell_type": "code",
   "execution_count": null,
   "metadata": {
    "id": "6vOue-tL_Q-W"
   },
   "outputs": [],
   "source": [
    "import tensorflow as tf"
   ]
  },
  {
   "cell_type": "code",
   "execution_count": null,
   "metadata": {
    "id": "bzJu4s0N_yEj"
   },
   "outputs": [],
   "source": [
    "image_size_original=(481, 321, 3)\n",
    "scale = 3\n",
    "image_size = list(map(lambda x: x//scale , image_size_original[:-1])) + [image_size_original[-1]]\n",
    "image_size = (*image_size,)"
   ]
  },
  {
   "cell_type": "code",
   "execution_count": null,
   "metadata": {
    "id": "iblHMxPd_iyT"
   },
   "outputs": [],
   "source": [
    "inputs_shape = list(map(lambda x: x//2 , image_size[:-1])) + [image_size[-1]]\n",
    "inputs_shape = (*inputs_shape,)"
   ]
  },
  {
   "cell_type": "code",
   "execution_count": null,
   "metadata": {
    "id": "jJV9exKb-UvY"
   },
   "outputs": [],
   "source": [
    "shrink_fn = lambda image: tf.image.resize(image, inputs_shape[:-1]).numpy()"
   ]
  },
  {
   "cell_type": "code",
   "execution_count": null,
   "metadata": {
    "id": "O7vHmcI-BtEf"
   },
   "outputs": [],
   "source": [
    "from LMDB_Datasets.transformation.lmdb_transformer import SRLmdbTransformer"
   ]
  },
  {
   "cell_type": "code",
   "execution_count": null,
   "metadata": {
    "colab": {
     "base_uri": "https://localhost:8080/"
    },
    "id": "GNludbWR-iF3",
    "outputId": "92c0294b-56ba-4b61-ff11-4b0ee1dbefe8"
   },
   "outputs": [
    {
     "name": "stdout",
     "output_type": "stream",
     "text": [
      "data\t\t   graphs\t  notebooks\t    statistical     utils\n",
      "evaluation\t   LICENSE\t  README.md\t    training\n",
      "Generative_Models  LMDB_Datasets  requirements.txt  transformation\n"
     ]
    }
   ],
   "source": [
    "!ls "
   ]
  },
  {
   "cell_type": "markdown",
   "metadata": {
    "id": "oKtu7I5s-hq8"
   },
   "source": []
  },
  {
   "cell_type": "code",
   "execution_count": null,
   "metadata": {
    "id": "mB5hgseZC8IQ"
   },
   "outputs": [],
   "source": [
    "images_dir = 'data/.CBSD68' #Folder to images ( without name of the folder which we moved images before)\n",
    "validation_percentage = 30\n",
    "valid_format = 'png'"
   ]
  },
  {
   "cell_type": "code",
   "execution_count": null,
   "metadata": {
    "id": "zNPxn5jzvQgA"
   },
   "outputs": [],
   "source": [
    "transformer = SRLmdbTransformer(image_dir = images_dir, trans_func=shrink_fn,\n",
    "                              validation_pct = validation_percentage, valid_image_formats = valid_format)"
   ]
  },
  {
   "cell_type": "markdown",
   "metadata": {
    "id": "MOm_t8__-7Bl"
   },
   "source": [
    "# Evaluating numbers of training and validation sets"
   ]
  },
  {
   "cell_type": "code",
   "execution_count": null,
   "metadata": {
    "colab": {
     "base_uri": "https://localhost:8080/"
    },
    "id": "kZ9lG8I2vUS3",
    "outputId": "3a514722-b19e-492b-a7c3-f7b315ff7b08"
   },
   "outputs": [
    {
     "name": "stdout",
     "output_type": "stream",
     "text": [
      "47 21\n"
     ]
    }
   ],
   "source": [
    "\n",
    "val_num_images = 0\n",
    "tra_num_images = 0\n",
    "for key in transformer.image_lists.keys():\n",
    "    tra_num_images += len(transformer.image_lists[key]['training'])\n",
    "    val_num_images += len(transformer.image_lists[key]['validation'])\n",
    "    \n",
    "print(tra_num_images, val_num_images)"
   ]
  },
  {
   "cell_type": "markdown",
   "metadata": {
    "id": "oD2xDBORSkqR"
   },
   "source": [
    "# Getting labels by filename"
   ]
  },
  {
   "cell_type": "code",
   "execution_count": null,
   "metadata": {
    "id": "nTQB5YX2wkO_"
   },
   "outputs": [],
   "source": [
    "from LMDB_Datasets.datasets_customed.label_by_filename import get_label_by_filename\n"
   ]
  },
  {
   "cell_type": "code",
   "execution_count": null,
   "metadata": {
    "id": "2CKE-87kxBT6"
   },
   "outputs": [],
   "source": [
    "def get_label_by_filename(img_path):\n",
    "    name, _ = os.path.splitext(img_path)\n",
    "    vid_img_arr = name.split(sep=os.sep)[-2:]\n",
    "    return {'dir': (vid_img_arr)[0], 'filename': (vid_img_arr)[1]}"
   ]
  },
  {
   "cell_type": "markdown",
   "metadata": {
    "id": "3OlujHmNSzin"
   },
   "source": [
    "# Transforming images to LMDB"
   ]
  },
  {
   "cell_type": "code",
   "execution_count": null,
   "metadata": {
    "colab": {
     "base_uri": "https://localhost:8080/",
     "height": 35
    },
    "id": "GIzMN-MnSlR3",
    "outputId": "d6fc9055-d7ed-4dfb-a523-22b9421f3d4a"
   },
   "outputs": [
    {
     "data": {
      "application/vnd.google.colaboratory.intrinsic+json": {
       "type": "string"
      },
      "text/plain": [
       "'data/.CBSD68_low2high_LMDB'"
      ]
     },
     "execution_count": 124,
     "metadata": {
      "tags": []
     },
     "output_type": "execute_result"
    }
   ],
   "source": [
    "lmdb_dir = 'data/.CBSD68_low2high_LMDB'\n",
    "lmdb_dir"
   ]
  },
  {
   "cell_type": "code",
   "execution_count": null,
   "metadata": {
    "id": "bPUA6FerL4gU"
   },
   "outputs": [],
   "source": [
    "#!mv data/.CBSD68/02 data/.CBSD68/a"
   ]
  },
  {
   "cell_type": "code",
   "execution_count": null,
   "metadata": {
    "colab": {
     "base_uri": "https://localhost:8080/"
    },
    "id": "wdhP5O_IMa-c",
    "outputId": "e900c0c7-0fcd-416d-ec8e-dc37f47f166d"
   },
   "outputs": [
    {
     "name": "stdout",
     "output_type": "stream",
     "text": [
      "ls: cannot access 'data/.CBSD68/a': No such file or directory\n"
     ]
    }
   ],
   "source": [
    "!ls data/.CBSD68/a"
   ]
  },
  {
   "cell_type": "code",
   "execution_count": null,
   "metadata": {
    "colab": {
     "base_uri": "https://localhost:8080/"
    },
    "id": "9QbescqLxOWr",
    "outputId": "6b31da52-6f27-4efe-caa7-f72e48604b93"
   },
   "outputs": [
    {
     "name": "stdout",
     "output_type": "stream",
     "text": [
      "Total number of imgs for catagory 47\n",
      "Storing 47data/.CBSD68_low2high_LMDB/into _training from folder 01\n"
     ]
    }
   ],
   "source": [
    "transformer.transform_store(labels_fn=get_label_by_filename,image_dir=images_dir, lmdb_dir = lmdb_dir\n",
    "           ,category='training',target_size=(481, 321),color_mode='rgb')\n"
   ]
  },
  {
   "cell_type": "code",
   "execution_count": null,
   "metadata": {
    "colab": {
     "base_uri": "https://localhost:8080/"
    },
    "id": "ywoa5olzxZ10",
    "outputId": "93a4202d-1efb-4fda-9446-2df67fce9a1d"
   },
   "outputs": [
    {
     "name": "stdout",
     "output_type": "stream",
     "text": [
      "Total number of imgs for catagory 21\n",
      "Storing 21data/.CBSD68_low2high_LMDB/into _validation from folder 01\n"
     ]
    }
   ],
   "source": [
    "transformer.transform_store(labels_fn=get_label_by_filename,image_dir=images_dir, lmdb_dir = lmdb_dir\n",
    "           ,category='validation',target_size=(481, 321),color_mode='rgb')"
   ]
  },
  {
   "cell_type": "markdown",
   "metadata": {
    "id": "DI_9hqKuS9uo"
   },
   "source": [
    "# Saving meta data of dataset"
   ]
  },
  {
   "cell_type": "code",
   "execution_count": null,
   "metadata": {
    "id": "Cj9GY5fU8jeD"
   },
   "outputs": [],
   "source": [
    "!touch ../Generative_Models/data/.CBSD68_low2high_LMDB/meta_info.json #creating a json file"
   ]
  },
  {
   "cell_type": "code",
   "execution_count": null,
   "metadata": {
    "colab": {
     "base_uri": "https://localhost:8080/"
    },
    "id": "stYHyxv2vzX_",
    "outputId": "59ee9fbc-f0e9-408a-f1b3-209506247829"
   },
   "outputs": [
    {
     "name": "stdout",
     "output_type": "stream",
     "text": [
      "_training  _validation\n"
     ]
    }
   ],
   "source": [
    "!ls ../Generative_Models/data/.CBSD68_low2high_LMDB"
   ]
  },
  {
   "cell_type": "code",
   "execution_count": null,
   "metadata": {
    "id": "EuhkObY-vbMW"
   },
   "outputs": [],
   "source": [
    "\n",
    "info = {\n",
    "    'Dataset_name': \"CBSD68\",\n",
    "    'Dataset_size': val_num_images + tra_num_images,\n",
    "    'val_num_images':val_num_images,\n",
    "    'tra_num_images' : tra_num_images\n",
    "}\n",
    "\n",
    "transformer.save_metadata('../Generative_Models/data/.CBSD68_low2high_LMDB',info)"
   ]
  },
  {
   "cell_type": "code",
   "execution_count": null,
   "metadata": {
    "colab": {
     "base_uri": "https://localhost:8080/"
    },
    "id": "0q_iDqL1JSPn",
    "outputId": "9c369e29-a7cf-4d1f-9f22-b13c15ed93c5"
   },
   "outputs": [
    {
     "data": {
      "text/plain": [
       "{'Dataset_name': 'CBSD68',\n",
       " 'Dataset_size': 68,\n",
       " 'tra_num_images': 47,\n",
       " 'val_num_images': 21}"
      ]
     },
     "execution_count": 134,
     "metadata": {
      "tags": []
     },
     "output_type": "execute_result"
    }
   ],
   "source": [
    "transformer.get_metadata('../Generative_Models/data/.CBSD68_low2high_LMDB') #checking whether it is working or not"
   ]
  },
  {
   "cell_type": "code",
   "execution_count": null,
   "metadata": {
    "colab": {
     "base_uri": "https://localhost:8080/"
    },
    "id": "jUUBm8tWTfsR",
    "outputId": "3f4798da-a545-40ce-a7c8-84db6933a649"
   },
   "outputs": [
    {
     "name": "stdout",
     "output_type": "stream",
     "text": [
      "ls: cannot access '/content/Generative_Models/data/.CBSD68_LMDB/': No such file or directory\n"
     ]
    }
   ],
   "source": [
    "!ls -l /content/Generative_Models/data/.CBSD68_low2high_LMDB"
   ]
  },
  {
   "cell_type": "markdown",
   "metadata": {
    "id": "0oLt7G5pAorL"
   },
   "source": [
    "# I tried to read LMDB, but.."
   ]
  },
  {
   "cell_type": "code",
   "execution_count": null,
   "metadata": {
    "id": "8IGyp9KSxvi_"
   },
   "outputs": [],
   "source": [
    "import lmdb\n",
    "import pickle\n",
    "\n",
    "def read_many_lmdb(lmdb_dir, num_images):\n",
    "\n",
    "    images, labels = [], {}\n",
    "    env = lmdb.open(lmdb_dir, readonly=True)\n",
    "\n",
    "    # Start a new read transaction\n",
    "    with env.begin() as txn:\n",
    "        # Read all images in one single transaction, with one lock\n",
    "        # We could split this up into multiple transactions if needed\n",
    "        for image_id in range(num_images):\n",
    "            data = txn.get(f\"{image_id:08}\".encode(\"ascii\"))\n",
    "            # Remember that it's a CIFAR_Image object \n",
    "            # that is stored as the value\n",
    "            dataset = pickle.loads(data)\n",
    "            images.append(dataset.get_image())\n",
    "            \n",
    "            labels_list = [attr for attr in dir(dataset) if not callable(getattr(dataset, attr)) and (not attr.startswith(\"__\")) and \n",
    "                           (not attr in ['image','channels',  'size'] )]\n",
    "\n",
    "            for label in labels_list:\n",
    "                # _lab = {label: eval(f'dataset.{label}')}\n",
    "#                 print({label: eval(f'dataset.{label}')})\n",
    "                # labels = {**labels, **_lab}\n",
    "                if label in labels:\n",
    "                    labels[label].append(eval(f'dataset.{label}'))\n",
    "                else:\n",
    "                    labels = {label: [eval(f'dataset.{label}')] }\n",
    "                \n",
    "    env.close()\n",
    "    return {'images': images, **labels}"
   ]
  },
  {
   "cell_type": "markdown",
   "metadata": {
    "id": "FVf5bPMc_vb4"
   },
   "source": [
    "I don't know why it gives the following error."
   ]
  },
  {
   "cell_type": "code",
   "execution_count": null,
   "metadata": {
    "colab": {
     "base_uri": "https://localhost:8080/",
     "height": 287
    },
    "id": "Nou-PnS_x9cW",
    "outputId": "59836f9c-3f6b-46a7-a964-df6d430ea974"
   },
   "outputs": [
    {
     "ename": "TypeError",
     "evalue": "ignored",
     "output_type": "error",
     "traceback": [
      "\u001b[0;31m---------------------------------------------------------------------------\u001b[0m",
      "\u001b[0;31mTypeError\u001b[0m                                 Traceback (most recent call last)",
      "\u001b[0;32m<ipython-input-52-555210d6f73c>\u001b[0m in \u001b[0;36m<module>\u001b[0;34m()\u001b[0m\n\u001b[0;32m----> 1\u001b[0;31m \u001b[0mds\u001b[0m \u001b[0;34m=\u001b[0m \u001b[0mread_many_lmdb\u001b[0m\u001b[0;34m(\u001b[0m\u001b[0;34m'/content/Generative_Models/CBSD68_LMDB/_training'\u001b[0m\u001b[0;34m,\u001b[0m \u001b[0;36m5\u001b[0m\u001b[0;34m)\u001b[0m\u001b[0;34m\u001b[0m\u001b[0;34m\u001b[0m\u001b[0m\n\u001b[0m",
      "\u001b[0;32m<ipython-input-51-f190a748af2a>\u001b[0m in \u001b[0;36mread_many_lmdb\u001b[0;34m(lmdb_dir, num_images)\u001b[0m\n\u001b[1;32m     15\u001b[0m             \u001b[0;31m# Remember that it's a CIFAR_Image object\u001b[0m\u001b[0;34m\u001b[0m\u001b[0;34m\u001b[0m\u001b[0;34m\u001b[0m\u001b[0m\n\u001b[1;32m     16\u001b[0m             \u001b[0;31m# that is stored as the value\u001b[0m\u001b[0;34m\u001b[0m\u001b[0;34m\u001b[0m\u001b[0;34m\u001b[0m\u001b[0m\n\u001b[0;32m---> 17\u001b[0;31m             \u001b[0mdataset\u001b[0m \u001b[0;34m=\u001b[0m \u001b[0mpickle\u001b[0m\u001b[0;34m.\u001b[0m\u001b[0mloads\u001b[0m\u001b[0;34m(\u001b[0m\u001b[0mdata\u001b[0m\u001b[0;34m)\u001b[0m\u001b[0;34m\u001b[0m\u001b[0;34m\u001b[0m\u001b[0m\n\u001b[0m\u001b[1;32m     18\u001b[0m             \u001b[0mimages\u001b[0m\u001b[0;34m.\u001b[0m\u001b[0mappend\u001b[0m\u001b[0;34m(\u001b[0m\u001b[0mdataset\u001b[0m\u001b[0;34m.\u001b[0m\u001b[0mget_image\u001b[0m\u001b[0;34m(\u001b[0m\u001b[0;34m)\u001b[0m\u001b[0;34m)\u001b[0m\u001b[0;34m\u001b[0m\u001b[0;34m\u001b[0m\u001b[0m\n\u001b[1;32m     19\u001b[0m \u001b[0;34m\u001b[0m\u001b[0m\n",
      "\u001b[0;31mTypeError\u001b[0m: a bytes-like object is required, not 'NoneType'"
     ]
    }
   ],
   "source": [
    "ds = read_many_lmdb('/content/Generative_Models/CBSD68_LMDB/_training', 5)"
   ]
  },
  {
   "cell_type": "markdown",
   "metadata": {
    "id": "4oQPBKFXA5-8"
   },
   "source": [
    "# Zipping"
   ]
  },
  {
   "cell_type": "code",
   "execution_count": null,
   "metadata": {
    "colab": {
     "base_uri": "https://localhost:8080/"
    },
    "id": "dsl2F0T6bLi_",
    "outputId": "2d06d379-8cac-45f0-8e00-50c5fb006554"
   },
   "outputs": [
    {
     "name": "stdout",
     "output_type": "stream",
     "text": [
      "data.mdb  lock.mdb\n"
     ]
    }
   ],
   "source": [
    "!ls data/.CBSD68_low2high_LMDB/_training/"
   ]
  },
  {
   "cell_type": "code",
   "execution_count": null,
   "metadata": {
    "colab": {
     "base_uri": "https://localhost:8080/"
    },
    "id": "3LOLftrcA3LY",
    "outputId": "8e12c0dc-9e0b-478e-9298-74e2422ed6bd"
   },
   "outputs": [
    {
     "name": "stdout",
     "output_type": "stream",
     "text": [
      "data/.CBSD68_low2high_LMDB/\n",
      "data/.CBSD68_low2high_LMDB/_training/\n",
      "data/.CBSD68_low2high_LMDB/_training/data.mdb\n",
      "data/.CBSD68_low2high_LMDB/_training/lock.mdb\n",
      "data/.CBSD68_low2high_LMDB/meta_info.json\n",
      "data/.CBSD68_low2high_LMDB/_validation/\n",
      "data/.CBSD68_low2high_LMDB/_validation/data.mdb\n",
      "data/.CBSD68_low2high_LMDB/_validation/lock.mdb\n"
     ]
    }
   ],
   "source": [
    "!tar -cvjf CBSD68_low2high_LMDB.tar.bz data/.CBSD68_low2high_LMDB"
   ]
  },
  {
   "cell_type": "code",
   "execution_count": null,
   "metadata": {
    "colab": {
     "base_uri": "https://localhost:8080/"
    },
    "id": "kLryEoClUPJ2",
    "outputId": "acd9f499-9f84-44a4-9a74-7fd1517797c0"
   },
   "outputs": [
    {
     "name": "stdout",
     "output_type": "stream",
     "text": [
      "-rw-r--r-- 1 root root 21076016 Oct 31 10:06 CBSD68_low2high_LMDB.tar.bz\n"
     ]
    }
   ],
   "source": [
    "!ls CBSD68_low2high_LMDB.tar.bz -l"
   ]
  },
  {
   "cell_type": "code",
   "execution_count": null,
   "metadata": {
    "colab": {
     "base_uri": "https://localhost:8080/"
    },
    "id": "vr8gcMkiUT2j",
    "outputId": "bfb36e87-80ba-4799-f586-045e2cb3c5ab"
   },
   "outputs": [
    {
     "name": "stdout",
     "output_type": "stream",
     "text": [
      "updating: LMDB_Datasets/ (stored 0%)\n",
      "updating: LMDB_Datasets/.git/ (stored 0%)\n",
      "updating: LMDB_Datasets/.git/info/ (stored 0%)\n",
      "updating: LMDB_Datasets/.git/info/exclude (deflated 28%)\n",
      "updating: LMDB_Datasets/.git/packed-refs (deflated 10%)\n",
      "updating: LMDB_Datasets/.git/logs/ (stored 0%)\n",
      "updating: LMDB_Datasets/.git/logs/HEAD (deflated 26%)\n",
      "updating: LMDB_Datasets/.git/logs/refs/ (stored 0%)\n",
      "updating: LMDB_Datasets/.git/logs/refs/remotes/ (stored 0%)\n",
      "updating: LMDB_Datasets/.git/logs/refs/remotes/origin/ (stored 0%)\n",
      "updating: LMDB_Datasets/.git/logs/refs/remotes/origin/HEAD (deflated 26%)\n",
      "updating: LMDB_Datasets/.git/logs/refs/heads/ (stored 0%)\n",
      "updating: LMDB_Datasets/.git/logs/refs/heads/master (deflated 26%)\n",
      "updating: LMDB_Datasets/.git/HEAD (stored 0%)\n",
      "updating: LMDB_Datasets/.git/objects/ (stored 0%)\n",
      "updating: LMDB_Datasets/.git/objects/pack/ (stored 0%)\n",
      "updating: LMDB_Datasets/.git/objects/pack/pack-18fc8702a9020dd2ee622281f7f16a0e09d022a1.pack (deflated 0%)\n",
      "updating: LMDB_Datasets/.git/objects/pack/pack-18fc8702a9020dd2ee622281f7f16a0e09d022a1.idx (deflated 9%)\n",
      "updating: LMDB_Datasets/.git/objects/info/ (stored 0%)\n",
      "updating: LMDB_Datasets/.git/hooks/ (stored 0%)\n",
      "updating: LMDB_Datasets/.git/hooks/pre-applypatch.sample (deflated 38%)\n",
      "updating: LMDB_Datasets/.git/hooks/commit-msg.sample (deflated 44%)\n",
      "updating: LMDB_Datasets/.git/hooks/prepare-commit-msg.sample (deflated 50%)\n",
      "updating: LMDB_Datasets/.git/hooks/pre-commit.sample (deflated 43%)\n",
      "updating: LMDB_Datasets/.git/hooks/applypatch-msg.sample (deflated 42%)\n",
      "updating: LMDB_Datasets/.git/hooks/post-update.sample (deflated 27%)\n",
      "updating: LMDB_Datasets/.git/hooks/fsmonitor-watchman.sample (deflated 53%)\n",
      "updating: LMDB_Datasets/.git/hooks/pre-push.sample (deflated 50%)\n",
      "updating: LMDB_Datasets/.git/hooks/pre-rebase.sample (deflated 59%)\n",
      "updating: LMDB_Datasets/.git/hooks/pre-receive.sample (deflated 40%)\n",
      "updating: LMDB_Datasets/.git/hooks/update.sample (deflated 68%)\n",
      "updating: LMDB_Datasets/.git/index (deflated 43%)\n",
      "updating: LMDB_Datasets/.git/refs/ (stored 0%)\n",
      "updating: LMDB_Datasets/.git/refs/remotes/ (stored 0%)\n",
      "updating: LMDB_Datasets/.git/refs/remotes/origin/ (stored 0%)\n",
      "updating: LMDB_Datasets/.git/refs/remotes/origin/HEAD (stored 0%)\n",
      "updating: LMDB_Datasets/.git/refs/heads/ (stored 0%)\n",
      "updating: LMDB_Datasets/.git/refs/heads/master (stored 0%)\n",
      "updating: LMDB_Datasets/.git/refs/tags/ (stored 0%)\n",
      "updating: LMDB_Datasets/.git/config (deflated 31%)\n",
      "updating: LMDB_Datasets/.git/branches/ (stored 0%)\n",
      "updating: LMDB_Datasets/.git/description (deflated 14%)\n",
      "updating: LMDB_Datasets/transformation/ (stored 0%)\n",
      "updating: LMDB_Datasets/transformation/__pycache__/ (stored 0%)\n",
      "updating: LMDB_Datasets/transformation/__pycache__/wrappers.cpython-36.pyc (deflated 54%)\n",
      "updating: LMDB_Datasets/transformation/__pycache__/file_image_generator.cpython-36.pyc (deflated 43%)\n",
      "updating: LMDB_Datasets/transformation/__pycache__/file_utils.cpython-36.pyc (deflated 42%)\n",
      "updating: LMDB_Datasets/transformation/__pycache__/data_utils.cpython-36.pyc (deflated 43%)\n",
      "updating: LMDB_Datasets/transformation/__pycache__/lmdb_transformer.cpython-36.pyc (deflated 60%)\n",
      "updating: LMDB_Datasets/transformation/wrappers.py (deflated 75%)\n",
      "updating: LMDB_Datasets/transformation/data_utils.py (deflated 60%)\n",
      "updating: LMDB_Datasets/transformation/logging.py (deflated 61%)\n",
      "updating: LMDB_Datasets/transformation/file_image_generator.py (deflated 67%)\n",
      "updating: LMDB_Datasets/transformation/lmdb_transformer.py (deflated 85%)\n",
      "updating: LMDB_Datasets/transformation/file_utils.py (deflated 61%)\n",
      "updating: LMDB_Datasets/.gitignore (deflated 52%)\n",
      "updating: LMDB_Datasets/notebooks/ (stored 0%)\n",
      "updating: LMDB_Datasets/notebooks/Pokemon_ds_transformation.ipynb (deflated 83%)\n",
      "updating: LMDB_Datasets/notebooks/Dstripes_ds_transformation-zip_extract.ipynb (deflated 86%)\n",
      "updating: LMDB_Datasets/notebooks/PACMAN_LMDB.ipynb (deflated 87%)\n",
      "updating: LMDB_Datasets/notebooks/MNIST_ds_transformation.ipynb (deflated 83%)\n",
      "updating: LMDB_Datasets/notebooks/SMALLNORB_LMDB.ipynb (deflated 79%)\n",
      "updating: LMDB_Datasets/notebooks/Anime_faces.ipynb (deflated 87%)\n",
      "updating: LMDB_Datasets/notebooks/Image-net-LMDB.ipynb (deflated 80%)\n",
      "updating: LMDB_Datasets/requirements.txt (deflated 47%)\n",
      "updating: LMDB_Datasets/datasets_customed/ (stored 0%)\n",
      "updating: LMDB_Datasets/datasets_customed/__pycache__/ (stored 0%)\n",
      "updating: LMDB_Datasets/datasets_customed/__pycache__/label_by_filename.cpython-36.pyc (deflated 33%)\n",
      "updating: LMDB_Datasets/datasets_customed/label_by_filename.py (deflated 58%)\n",
      "updating: LMDB_Datasets/.data/ (stored 0%)\n",
      "updating: LMDB_Datasets/.data/Dsprites_Tar/ (stored 0%)\n",
      "updating: LMDB_Datasets/.data/Dsprites_Tar/dsprites.tar.bz (deflated 12%)\n",
      "updating: LMDB_Datasets/.data/Pokemon_TAR/ (stored 0%)\n",
      "updating: LMDB_Datasets/.data/Pokemon_TAR/pokemon.tar.partaa (deflated 0%)\n",
      "updating: LMDB_Datasets/.data/MNIST_TAR/ (stored 0%)\n",
      "updating: LMDB_Datasets/.data/MNIST_TAR/mnist.tar.bz (deflated 0%)\n"
     ]
    }
   ],
   "source": [
    "!zip -r LMDB_Datasets.zip  LMDB_Datasets/"
   ]
  },
  {
   "cell_type": "code",
   "execution_count": null,
   "metadata": {
    "colab": {
     "base_uri": "https://localhost:8080/"
    },
    "id": "FeZPSA5GJcwd",
    "outputId": "c98094d3-9363-4708-f9d4-4df1b8c2343f"
   },
   "outputs": [
    {
     "name": "stdout",
     "output_type": "stream",
     "text": [
      "CBSD68_low2high_LMDB.tar.bz  graphs\t    README.md\t      transformation\n",
      "data\t\t\t     LICENSE\t    requirements.txt  utils\n",
      "evaluation\t\t     LMDB_Datasets  statistical\n",
      "Generative_Models\t     notebooks\t    training\n"
     ]
    }
   ],
   "source": [
    "!ls"
   ]
  },
  {
   "cell_type": "code",
   "execution_count": null,
   "metadata": {
    "colab": {
     "base_uri": "https://localhost:8080/"
    },
    "id": "itwIzfEIJQaM",
    "outputId": "6d8eeb2f-ad0d-4dda-939a-8ffd71e892a5"
   },
   "outputs": [
    {
     "name": "stdout",
     "output_type": "stream",
     "text": [
      "LMDB_Datasets/\n",
      "LMDB_Datasets/.git/\n",
      "LMDB_Datasets/.git/info/\n",
      "LMDB_Datasets/.git/info/exclude\n",
      "LMDB_Datasets/.git/packed-refs\n",
      "LMDB_Datasets/.git/logs/\n",
      "LMDB_Datasets/.git/logs/HEAD\n",
      "LMDB_Datasets/.git/logs/refs/\n",
      "LMDB_Datasets/.git/logs/refs/remotes/\n",
      "LMDB_Datasets/.git/logs/refs/remotes/origin/\n",
      "LMDB_Datasets/.git/logs/refs/remotes/origin/HEAD\n",
      "LMDB_Datasets/.git/logs/refs/heads/\n",
      "LMDB_Datasets/.git/logs/refs/heads/master\n",
      "LMDB_Datasets/.git/HEAD\n",
      "LMDB_Datasets/.git/objects/\n",
      "LMDB_Datasets/.git/objects/pack/\n",
      "LMDB_Datasets/.git/objects/pack/pack-18fc8702a9020dd2ee622281f7f16a0e09d022a1.pack\n",
      "LMDB_Datasets/.git/objects/pack/pack-18fc8702a9020dd2ee622281f7f16a0e09d022a1.idx\n",
      "LMDB_Datasets/.git/objects/info/\n",
      "LMDB_Datasets/.git/hooks/\n",
      "LMDB_Datasets/.git/hooks/pre-applypatch.sample\n",
      "LMDB_Datasets/.git/hooks/commit-msg.sample\n",
      "LMDB_Datasets/.git/hooks/prepare-commit-msg.sample\n",
      "LMDB_Datasets/.git/hooks/pre-commit.sample\n",
      "LMDB_Datasets/.git/hooks/applypatch-msg.sample\n",
      "LMDB_Datasets/.git/hooks/post-update.sample\n",
      "LMDB_Datasets/.git/hooks/fsmonitor-watchman.sample\n",
      "LMDB_Datasets/.git/hooks/pre-push.sample\n",
      "LMDB_Datasets/.git/hooks/pre-rebase.sample\n",
      "LMDB_Datasets/.git/hooks/pre-receive.sample\n",
      "LMDB_Datasets/.git/hooks/update.sample\n",
      "LMDB_Datasets/.git/index\n",
      "LMDB_Datasets/.git/refs/\n",
      "LMDB_Datasets/.git/refs/remotes/\n",
      "LMDB_Datasets/.git/refs/remotes/origin/\n",
      "LMDB_Datasets/.git/refs/remotes/origin/HEAD\n",
      "LMDB_Datasets/.git/refs/heads/\n",
      "LMDB_Datasets/.git/refs/heads/master\n",
      "LMDB_Datasets/.git/refs/tags/\n",
      "LMDB_Datasets/.git/config\n",
      "LMDB_Datasets/.git/branches/\n",
      "LMDB_Datasets/.git/description\n",
      "LMDB_Datasets/transformation/\n",
      "LMDB_Datasets/transformation/__pycache__/\n",
      "LMDB_Datasets/transformation/__pycache__/wrappers.cpython-36.pyc\n",
      "LMDB_Datasets/transformation/__pycache__/file_image_generator.cpython-36.pyc\n",
      "LMDB_Datasets/transformation/__pycache__/file_utils.cpython-36.pyc\n",
      "LMDB_Datasets/transformation/__pycache__/data_utils.cpython-36.pyc\n",
      "LMDB_Datasets/transformation/__pycache__/lmdb_transformer.cpython-36.pyc\n",
      "LMDB_Datasets/transformation/wrappers.py\n",
      "LMDB_Datasets/transformation/data_utils.py\n",
      "LMDB_Datasets/transformation/logging.py\n",
      "LMDB_Datasets/transformation/file_image_generator.py\n",
      "LMDB_Datasets/transformation/lmdb_transformer.py\n",
      "LMDB_Datasets/transformation/file_utils.py\n",
      "LMDB_Datasets/.gitignore\n",
      "LMDB_Datasets/notebooks/\n",
      "LMDB_Datasets/notebooks/Pokemon_ds_transformation.ipynb\n",
      "LMDB_Datasets/notebooks/Dstripes_ds_transformation-zip_extract.ipynb\n",
      "LMDB_Datasets/notebooks/PACMAN_LMDB.ipynb\n",
      "LMDB_Datasets/notebooks/MNIST_ds_transformation.ipynb\n",
      "LMDB_Datasets/notebooks/SMALLNORB_LMDB.ipynb\n",
      "LMDB_Datasets/notebooks/Anime_faces.ipynb\n",
      "LMDB_Datasets/notebooks/Image-net-LMDB.ipynb\n",
      "LMDB_Datasets/requirements.txt\n",
      "LMDB_Datasets/datasets_customed/\n",
      "LMDB_Datasets/datasets_customed/__pycache__/\n",
      "LMDB_Datasets/datasets_customed/__pycache__/label_by_filename.cpython-36.pyc\n",
      "LMDB_Datasets/datasets_customed/label_by_filename.py\n",
      "LMDB_Datasets/.data/\n",
      "LMDB_Datasets/.data/Dsprites_Tar/\n",
      "LMDB_Datasets/.data/Dsprites_Tar/dsprites.tar.bz\n",
      "LMDB_Datasets/.data/Pokemon_TAR/\n",
      "LMDB_Datasets/.data/Pokemon_TAR/pokemon.tar.partaa\n",
      "LMDB_Datasets/.data/MNIST_TAR/\n",
      "LMDB_Datasets/.data/MNIST_TAR/mnist.tar.bz\n"
     ]
    }
   ],
   "source": [
    "!tar -cvjf LMDB_Datasets.tar.bz LMDB_Datasets"
   ]
  },
  {
   "cell_type": "code",
   "execution_count": null,
   "metadata": {
    "id": "9KGb8x6xJt3F"
   },
   "outputs": [],
   "source": []
  }
 ],
 "metadata": {
  "accelerator": "GPU",
  "colab": {
   "collapsed_sections": [],
   "name": "CBSD68_transformation.ipynb",
   "provenance": []
  },
  "kernelspec": {
   "display_name": "Python 3",
   "language": "python",
   "name": "python3"
  },
  "language_info": {
   "codemirror_mode": {
    "name": "ipython",
    "version": 3
   },
   "file_extension": ".py",
   "mimetype": "text/x-python",
   "name": "python",
   "nbconvert_exporter": "python",
   "pygments_lexer": "ipython3",
   "version": "3.8.5"
  }
 },
 "nbformat": 4,
 "nbformat_minor": 1
}
