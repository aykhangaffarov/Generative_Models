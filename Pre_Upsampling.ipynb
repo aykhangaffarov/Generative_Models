{
  "nbformat": 4,
  "nbformat_minor": 0,
  "metadata": {
    "colab": {
      "name": "Pre_Upsampling.ipynb",
      "provenance": [],
      "private_outputs": true,
      "collapsed_sections": [],
      "toc_visible": true,
      "authorship_tag": "ABX9TyPHzKbcbORtMe9//Ii7ZKsG",
      "include_colab_link": true
    },
    "kernelspec": {
      "name": "python3",
      "display_name": "Python 3"
    },
    "accelerator": "GPU"
  },
  "cells": [
    {
      "cell_type": "markdown",
      "metadata": {
        "id": "view-in-github",
        "colab_type": "text"
      },
      "source": [
        "<a href=\"https://colab.research.google.com/github/aykhangaffarov/Generative_Models/blob/initial-commit/Pre_Upsampling.ipynb\" target=\"_parent\"><img src=\"https://colab.research.google.com/assets/colab-badge.svg\" alt=\"Open In Colab\"/></a>"
      ]
    },
    {
      "cell_type": "code",
      "metadata": {
        "id": "jpUkP2vpV3P0"
      },
      "source": [
        "%load_ext autoreload\n",
        "%autoreload 2"
      ],
      "execution_count": null,
      "outputs": []
    },
    {
      "cell_type": "code",
      "metadata": {
        "id": "4pTqK0Pytciy"
      },
      "source": [
        "import tensorflow as tf\n",
        "print(tf.__version__)"
      ],
      "execution_count": null,
      "outputs": []
    },
    {
      "cell_type": "markdown",
      "metadata": {
        "id": "FaAUkhTxnzQT"
      },
      "source": [
        "# Environment prep for Colab\n",
        " - download git repo \n",
        " - install required pip packages"
      ]
    },
    {
      "cell_type": "code",
      "metadata": {
        "id": "0zbi2r-8nENp"
      },
      "source": [
        "!git clone https://github.com/aykhangaffarov/Generative_Models # this is for loading git with correct brach"
      ],
      "execution_count": null,
      "outputs": []
    },
    {
      "cell_type": "code",
      "metadata": {
        "id": "lC-25diVjJsw"
      },
      "source": [
        "from google.colab import drive\n",
        "drive.mount('/content/drive')\n",
        "!mkdir /content/drive/My\\ Drive/Results\n",
        "MAIN_SAVE_DIR = '/content/drive/My Drive/Results'\n",
        "IMG_DIR = '/content/Generative_Models/data/.CBSD68' #change .qbert here as well\n",
        "\n",
        "%cd /content/Generative_Models/\n",
        "!pip -q install -r /content/Generative_Models/requirements.txt\n",
        "!pip install colorlog==4.0.2\n",
        "%cd /content/"
      ],
      "execution_count": null,
      "outputs": []
    },
    {
      "cell_type": "code",
      "metadata": {
        "id": "d4BSW2ZInEKA"
      },
      "source": [
        "#!mv Generative_Models/data/.CBSD68/CBSD68.tar.bz Generative_Models/data/"
      ],
      "execution_count": null,
      "outputs": []
    },
    {
      "cell_type": "markdown",
      "metadata": {
        "id": "cP2DxgJQNh89"
      },
      "source": [
        "# Settings"
      ]
    },
    {
      "cell_type": "code",
      "metadata": {
        "id": "dEwmfIVPNh89"
      },
      "source": [
        "%env TF_KERAS = 1\n",
        "import os\n",
        "sep_local = os.path.sep\n",
        "\n",
        "import sys\n",
        "sys.path.append('..'+sep_local+'..')\n",
        "print(sep_local)"
      ],
      "execution_count": null,
      "outputs": []
    },
    {
      "cell_type": "code",
      "metadata": {
        "id": "OfIztLCTNh9B"
      },
      "source": [
        "import tensorflow as tf\n",
        "print(tf.__version__)"
      ],
      "execution_count": null,
      "outputs": []
    },
    {
      "cell_type": "code",
      "metadata": {
        "id": "pPvm6B2fNh9E"
      },
      "source": [
        "os.chdir('Generative_Models')\n",
        "print(os.getcwd())"
      ],
      "execution_count": null,
      "outputs": []
    },
    {
      "cell_type": "markdown",
      "metadata": {
        "id": "adBKUv8JoNHY"
      },
      "source": [
        "# Unzip"
      ]
    },
    {
      "cell_type": "code",
      "metadata": {
        "id": "EoJOjd0koPV9"
      },
      "source": [
        "!tar -xvf data/CBSD68_low2high_LMDB.tar.bz "
      ],
      "execution_count": null,
      "outputs": []
    },
    {
      "cell_type": "code",
      "metadata": {
        "id": "3FiBkKsjStoa"
      },
      "source": [
        "!mv data/.CBSD68_low2high_LMDB/ data/SR"
      ],
      "execution_count": null,
      "outputs": []
    },
    {
      "cell_type": "code",
      "metadata": {
        "id": "ZPqgoyVWSVtx"
      },
      "source": [
        "!ls data/SR"
      ],
      "execution_count": null,
      "outputs": []
    },
    {
      "cell_type": "markdown",
      "metadata": {
        "id": "yO-0nI9608uf"
      },
      "source": [
        "# **Loading** Dataset"
      ]
    },
    {
      "cell_type": "code",
      "metadata": {
        "id": "Etjuuv_D1Qax"
      },
      "source": [
        "from training.generators.from_lmdb.lmdb_image_generator import get_generators"
      ],
      "execution_count": null,
      "outputs": []
    },
    {
      "cell_type": "code",
      "metadata": {
        "id": "XWsIwy2P1ewc"
      },
      "source": [
        "!pip install colorlog"
      ],
      "execution_count": null,
      "outputs": []
    },
    {
      "cell_type": "code",
      "metadata": {
        "id": "ccy0nIqo1p0M"
      },
      "source": [
        "dataset_name='CBSD68_low2high'\n",
        "lmdb_dir = 'data/SR'"
      ],
      "execution_count": null,
      "outputs": []
    },
    {
      "cell_type": "code",
      "metadata": {
        "id": "thZNSgqQsL2j"
      },
      "source": [
        "image_size_original=(481, 321, 3)\n",
        "scale = 2\n",
        "image_size = list(map(lambda x: x//scale , image_size_original[:-1])) + [image_size_original[-1]]\n",
        "image_size = (*image_size,)\n",
        "batch_size = 16\n",
        "latents_dim = 150\n",
        "intermediate_dim = 50"
      ],
      "execution_count": null,
      "outputs": []
    },
    {
      "cell_type": "code",
      "metadata": {
        "id": "L1z8fF3X4GLU"
      },
      "source": [
        "from LMDB_Datasets.transformation.lmdb_transformer import LmdbTransformer"
      ],
      "execution_count": null,
      "outputs": []
    },
    {
      "cell_type": "code",
      "metadata": {
        "id": "P46bH7kbuXqV"
      },
      "source": [
        "#inputs_shape = list(map(lambda x: x//2 , image_size[:-1])) + [image_size[-1]]\n",
        "#inputs_shape = (*inputs_shape, )"
      ],
      "execution_count": null,
      "outputs": []
    },
    {
      "cell_type": "code",
      "metadata": {
        "id": "Gm2lnOqouHG6"
      },
      "source": [
        "#shrink_fn = lambda image: tf.image.resize(image, inputs_shape[:-1])\n",
        "#enlarge_fn = lambda image: tf.image.resize(image, image_size[:-1])"
      ],
      "execution_count": null,
      "outputs": []
    },
    {
      "cell_type": "code",
      "metadata": {
        "id": "Ux8Y2FkRt8Au"
      },
      "source": [
        "def generator_reshaper(generator): \n",
        "    while True:\n",
        "        batch = next(generator)\n",
        "        yield batch['image_target'], batch['image_source']"
      ],
      "execution_count": null,
      "outputs": []
    },
    {
      "cell_type": "code",
      "metadata": {
        "id": "2RNk8Kvh4LpE"
      },
      "source": [
        "train_generator, val_generator = get_generators(\n",
        "        lmdb_dir=lmdb_dir,\n",
        "        batch_size=batch_size,\n",
        "        episode_len=None,\n",
        "        episode_shift=None,\n",
        "        return_itr=True\n",
        ")"
      ],
      "execution_count": null,
      "outputs": []
    },
    {
      "cell_type": "code",
      "metadata": {
        "id": "rdaXnN8yeHng"
      },
      "source": [
        "data = next(train_generator)\n",
        "print(data.keys())"
      ],
      "execution_count": null,
      "outputs": []
    },
    {
      "cell_type": "code",
      "metadata": {
        "id": "opM5eN8C8iHh"
      },
      "source": [
        "import numpy as np"
      ],
      "execution_count": null,
      "outputs": []
    },
    {
      "cell_type": "markdown",
      "metadata": {
        "id": "NokFyG_5hrhl"
      },
      "source": [
        "**Problem is when we return data from generator it didn't seems like float type.**"
      ]
    },
    {
      "cell_type": "code",
      "metadata": {
        "id": "qTJTm7oBjDB3"
      },
      "source": [
        "np.frombuffer(data['image_source'][0],dtype=np.float32)"
      ],
      "execution_count": null,
      "outputs": []
    },
    {
      "cell_type": "code",
      "metadata": {
        "id": "ycfs_5c02PMr"
      },
      "source": [
        "train_ds = tf.data.Dataset.from_generator(\n",
        "    lambda: train_generator, \n",
        "    output_types= (tf.float32, tf.float32),\n",
        ")\n",
        "val_ds = tf.data.Dataset.from_generator(\n",
        "    lambda: val_generator, \n",
        "    output_types= (tf.float32, tf.float32),\n",
        ")"
      ],
      "execution_count": null,
      "outputs": []
    },
    {
      "cell_type": "markdown",
      "metadata": {
        "id": "-drULnFKu0gc"
      },
      "source": [
        ""
      ]
    },
    {
      "cell_type": "code",
      "metadata": {
        "id": "FverseUmu05q"
      },
      "source": [
        "_instance_scale=1.0\n",
        "for data in train_ds:\n",
        "    _instance_scale = float(data[0].numpy().max())\n",
        "    break"
      ],
      "execution_count": null,
      "outputs": []
    },
    {
      "cell_type": "markdown",
      "metadata": {
        "id": "DbD38rUAzijT"
      },
      "source": [
        ""
      ]
    },
    {
      "cell_type": "code",
      "metadata": {
        "id": "tgu8oBZ-zi6f"
      },
      "source": [
        "data.keys()"
      ],
      "execution_count": null,
      "outputs": []
    },
    {
      "cell_type": "code",
      "metadata": {
        "id": "nLU5hd3wozu0"
      },
      "source": [
        "import matplotlib.pyplot as plt\n",
        "plt.imshow(np.frombuffer(data['image_source'][2], dtype=np.float32))\n",
        "trace_image=data['image_source'][2]"
      ],
      "execution_count": null,
      "outputs": []
    },
    {
      "cell_type": "markdown",
      "metadata": {
        "id": "e8HH8S6p1Get"
      },
      "source": [
        "Models Layers definition"
      ]
    },
    {
      "cell_type": "markdown",
      "metadata": {
        "id": "EKz6p5c8ry6W"
      },
      "source": [
        "# input is half"
      ]
    },
    {
      "cell_type": "code",
      "metadata": {
        "id": "wHnIi0emVgzL"
      },
      "source": [
        ""
      ],
      "execution_count": null,
      "outputs": []
    },
    {
      "cell_type": "code",
      "metadata": {
        "id": "fI9A0KupVjPY"
      },
      "source": [
        "image_size, inputs_shape"
      ],
      "execution_count": null,
      "outputs": []
    },
    {
      "cell_type": "code",
      "metadata": {
        "id": "OM1L4NU0r15K"
      },
      "source": [
        ""
      ],
      "execution_count": null,
      "outputs": []
    },
    {
      "cell_type": "code",
      "metadata": {
        "id": "czizb51u0_9L"
      },
      "source": [
        "image_size"
      ],
      "execution_count": null,
      "outputs": []
    },
    {
      "cell_type": "code",
      "metadata": {
        "id": "M79p1p7TVnMa"
      },
      "source": [
        ""
      ],
      "execution_count": null,
      "outputs": []
    },
    {
      "cell_type": "code",
      "metadata": {
        "id": "VZ2BRJMQVs3S"
      },
      "source": [
        "import numpy as np\n",
        "from collections.abc import Iterable\n",
        "if isinstance(image_size, Iterable):\n",
        "    _outputs_shape = np.prod(image_size)\n",
        "_outputs_shape    "
      ],
      "execution_count": null,
      "outputs": []
    },
    {
      "cell_type": "code",
      "metadata": {
        "id": "J-YnKv2OWFCW"
      },
      "source": [
        ""
      ],
      "execution_count": null,
      "outputs": []
    },
    {
      "cell_type": "markdown",
      "metadata": {
        "id": "JuafIGAykx6q"
      },
      "source": [
        "# Model's Layers definition"
      ]
    },
    {
      "cell_type": "code",
      "metadata": {
        "id": "nlyjHfTbkx6r"
      },
      "source": [
        "kernel_size=3\n",
        "stride = 2"
      ],
      "execution_count": null,
      "outputs": []
    },
    {
      "cell_type": "code",
      "metadata": {
        "id": "UryhJFPLkx6u"
      },
      "source": [
        "c = list(map(lambda x: x// (stride*stride), image_size[:-1]))\n",
        "c = (*c, intermediate_dim)\n",
        "c"
      ],
      "execution_count": null,
      "outputs": []
    },
    {
      "cell_type": "code",
      "metadata": {
        "id": "_4tZx_f7kx60"
      },
      "source": [
        "enc_lays = [\n",
        "    tf.keras.layers.UpSampling2D(size=(2, 2)),\n",
        "    tf.keras.layers.UpSampling2D(size=(2, 2)),\n",
        "    tf.keras.layers.Flatten(),\n",
        "    # No activation\n",
        "    tf.keras.layers.Dense(latents_dim)\n",
        "]\n",
        "\n",
        "dec_lays = [\n",
        "    tf.keras.layers.Dense(units=np.product(c), activation=tf.nn.relu),\n",
        "    tf.keras.layers.Reshape(target_shape=c),\n",
        "    tf.keras.layers.Conv2DTranspose(filters=intermediate_dim, kernel_size=kernel_size, strides=(stride, stride), padding=\"SAME\", activation='relu'),\n",
        "    tf.keras.layers.Conv2DTranspose(filters=intermediate_dim, kernel_size=kernel_size, strides=(stride, stride), padding=\"SAME\", activation='relu'),\n",
        "    # No activation\n",
        "    tf.keras.layers.Conv2DTranspose(filters=3, kernel_size=kernel_size, strides=(1, 1), padding=\"SAME\")\n",
        "]"
      ],
      "execution_count": null,
      "outputs": []
    },
    {
      "cell_type": "markdown",
      "metadata": {
        "id": "dwJyfeImkx65"
      },
      "source": [
        "# Model definition"
      ]
    },
    {
      "cell_type": "code",
      "metadata": {
        "id": "KgsWtKI0kx65"
      },
      "source": [
        "model_name = dataset_name+'_Conv_Pre_Upsampling_LMDB'\n",
        "#windows\n",
        "#experiments_dir='..' + sep_local + '..' + sep_local +'..' + sep_local + '..' + sep_local + '..'+sep_local+'experiments'+sep_local + model_name\n",
        "\n",
        "#linux \n",
        "experiments_dir=os.getcwd()+ sep_local  +'experiments'+sep_local + model_name"
      ],
      "execution_count": null,
      "outputs": []
    },
    {
      "cell_type": "code",
      "metadata": {
        "id": "4pL24vyxkx7A"
      },
      "source": [
        ""
      ],
      "execution_count": null,
      "outputs": []
    },
    {
      "cell_type": "code",
      "metadata": {
        "id": "-q9NueoMkx7F"
      },
      "source": [
        "variables_params = \\\n",
        "[\n",
        "    {\n",
        "        'name': 'inference',  #'upsampler',\n",
        "        'inputs_shape':inputs_shape,\n",
        "        'outputs_shape':latents_dim,\n",
        "        'layers': enc_lays\n",
        "    }\n",
        "\n",
        "    ,\n",
        "    \n",
        "        {\n",
        "        'name': 'generative', #'constructive', \n",
        "        'inputs_shape':latents_dim,\n",
        "        'outputs_shape':image_size,\n",
        "        'layers':dec_lays\n",
        "    }\n",
        "]"
      ],
      "execution_count": null,
      "outputs": []
    },
    {
      "cell_type": "code",
      "metadata": {
        "pycharm": {
          "name": "#%%\n"
        },
        "id": "8NFXibVOkx7L"
      },
      "source": [
        "from os.path import abspath\n",
        "from utils.data_and_files.file_utils import create_if_not_exist\n",
        "_restore = os.path.join(experiments_dir, 'var_save_dir')\n",
        "create_if_not_exist(_restore)\n",
        "absolute = abspath(_restore)\n",
        "print(\"Restore_dir\",absolute)\n",
        "absolute = abspath(experiments_dir)\n",
        "print(\"Recording_dir\",absolute)\n",
        "print(\"Current working dir\",os.getcwd())"
      ],
      "execution_count": null,
      "outputs": []
    },
    {
      "cell_type": "code",
      "metadata": {
        "id": "WWnSN9Sjkx7P"
      },
      "source": [
        "from training.autoencoding_basic.transformative.AE import autoencoder as AE"
      ],
      "execution_count": null,
      "outputs": []
    },
    {
      "cell_type": "code",
      "metadata": {
        "scrolled": false,
        "id": "bJ05n010kx7T"
      },
      "source": [
        "ae = AE( \n",
        "    name=model_name,\n",
        "    latents_dim=latents_dim,\n",
        "    batch_size=batch_size,\n",
        "    variables_params=variables_params, \n",
        "    filepath=None,#to restore trained model, set filepath=_restore\n",
        "    episode_len=1\n",
        "    )"
      ],
      "execution_count": null,
      "outputs": []
    },
    {
      "cell_type": "code",
      "metadata": {
        "id": "4WXRxw20kx7W"
      },
      "source": [
        "image_size, inputs_shape"
      ],
      "execution_count": null,
      "outputs": []
    },
    {
      "cell_type": "code",
      "metadata": {
        "id": "5CM9uizikx7Z"
      },
      "source": [
        "ae.compile(metrics=None)\n",
        "\n",
        "#ae.compile(metrics=create_metrics())\n",
        "#ae.compile()"
      ],
      "execution_count": null,
      "outputs": []
    },
    {
      "cell_type": "code",
      "metadata": {
        "id": "iwk5sEHbWoMa"
      },
      "source": [
        ""
      ],
      "execution_count": null,
      "outputs": []
    },
    {
      "cell_type": "markdown",
      "metadata": {
        "id": "Bf5WOMHMkx7b"
      },
      "source": [
        "# Callbacks"
      ]
    },
    {
      "cell_type": "code",
      "metadata": {
        "id": "4h9PJzlWkx7c"
      },
      "source": [
        "# added for linux warning suppression\n",
        "import logging\n",
        "mpl_logger = logging.getLogger('matplotlib')\n",
        "mpl_logger.setLevel(logging.WARNING)\n",
        "\n",
        "\n",
        "from training.callbacks.trace_image_reconstruction import trace_reconstruction\n",
        "from training.callbacks.save_model import ModelSaver"
      ],
      "execution_count": null,
      "outputs": []
    },
    {
      "cell_type": "code",
      "metadata": {
        "id": "touTmsjckx7o"
      },
      "source": [
        "es = tf.keras.callbacks.EarlyStopping(\n",
        "    monitor='loss', \n",
        "    min_delta=1e-12, \n",
        "    patience=12, \n",
        "    verbose=1, \n",
        "    restore_best_weights=False\n",
        ")"
      ],
      "execution_count": null,
      "outputs": []
    },
    {
      "cell_type": "code",
      "metadata": {
        "id": "Yf9Iu8iKkx7t"
      },
      "source": [
        "ms = ModelSaver(filepath=_restore)"
      ],
      "execution_count": null,
      "outputs": []
    },
    {
      "cell_type": "code",
      "metadata": {
        "id": "irKXL5j2kx7x"
      },
      "source": [
        "csv_dir = os.path.join(experiments_dir, 'csv_dir')\n",
        "create_if_not_exist(csv_dir)\n",
        "csv_dir = os.path.join(csv_dir, model_name+'.csv')\n",
        "csv_log = tf.keras.callbacks.CSVLogger(csv_dir, append=True)\n",
        "absolute = abspath(csv_dir)\n",
        "print(\"Csv_dir\",absolute)"
      ],
      "execution_count": null,
      "outputs": []
    },
    {
      "cell_type": "code",
      "metadata": {
        "id": "625keQNvkx72"
      },
      "source": [
        "image_reconstuction_dir = os.path.join(experiments_dir, 'image_reconstuction_dir')\n",
        "create_if_not_exist(image_reconstuction_dir)\n",
        "absolute = abspath(image_reconstuction_dir)\n",
        "print(\"image_reconstuction_dir\",absolute)"
      ],
      "execution_count": null,
      "outputs": []
    },
    {
      "cell_type": "code",
      "metadata": {
        "id": "qhtmwQLKkx77"
      },
      "source": [
        "image = shrink_fn(np.asarray(trace_image)).numpy()/255.0\n",
        "img_reconst = trace_reconstruction(filepath=image_reconstuction_dir, image=image, gen_freq=5)"
      ],
      "execution_count": null,
      "outputs": []
    },
    {
      "cell_type": "markdown",
      "metadata": {
        "pycharm": {
          "name": "#%% md\n"
        },
        "id": "Fz8q2wlEkx8D"
      },
      "source": [
        "# Model Training"
      ]
    },
    {
      "cell_type": "code",
      "metadata": {
        "scrolled": false,
        "id": "dVbzRKVokx8E"
      },
      "source": [
        "ae.fit(\n",
        "    x=train_generator,\n",
        "    input_kw=None,\n",
        "    steps_per_epoch=int(1e4),\n",
        "    epochs=int(1e6), \n",
        "    verbose=2,\n",
        "    callbacks=[ es, ms, csv_log, img_reconst],\n",
        "    workers=-1,\n",
        "    use_multiprocessing=True,\n",
        "    validation_data=val_generator,\n",
        "    validation_steps=int(1e4)\n",
        "    )"
      ],
      "execution_count": null,
      "outputs": []
    },
    {
      "cell_type": "code",
      "metadata": {
        "id": "8fPBCxFFkx8J"
      },
      "source": [
        ""
      ],
      "execution_count": null,
      "outputs": []
    },
    {
      "cell_type": "markdown",
      "metadata": {
        "id": "x6dLc2IOiCyP"
      },
      "source": [
        "FORK"
      ]
    },
    {
      "cell_type": "code",
      "metadata": {
        "id": "WEXdmI0st7xp"
      },
      "source": [
        "!git checkout -b initial-commit"
      ],
      "execution_count": null,
      "outputs": []
    },
    {
      "cell_type": "code",
      "metadata": {
        "id": "07wAs6DXnM1W"
      },
      "source": [
        "!git add .\n"
      ],
      "execution_count": null,
      "outputs": []
    },
    {
      "cell_type": "code",
      "metadata": {
        "id": "_4DulCn0pxOK"
      },
      "source": [
        "!git commit -m 'initial commit'"
      ],
      "execution_count": null,
      "outputs": []
    },
    {
      "cell_type": "code",
      "metadata": {
        "id": "I0mkC3GhrDYu"
      },
      "source": [
        "!git push origin initial-commit"
      ],
      "execution_count": null,
      "outputs": []
    },
    {
      "cell_type": "code",
      "metadata": {
        "id": "RWlOK3Abv7A-"
      },
      "source": [
        ""
      ],
      "execution_count": null,
      "outputs": []
    }
  ]
}